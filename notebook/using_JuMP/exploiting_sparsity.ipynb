{
 "cells": [
  {
   "cell_type": "markdown",
   "metadata": {},
   "source": [
    "# Exploiting Sparsity\n",
    "### Shuvomoy Das Gupta"
   ]
  },
  {
   "cell_type": "markdown",
   "metadata": {},
   "source": [
    "This tutorial describes how to make an optimization model more efficient by exploiting sparsity."
   ]
  },
  {
   "cell_type": "markdown",
   "metadata": {},
   "source": [
    "# Introduction"
   ]
  },
  {
   "cell_type": "markdown",
   "metadata": {},
   "source": [
    "## What is a sparse data structure?\n",
    "A sparse data structure is one that has a lot of zeros in it. If a matrix has many more zeros than nonzeros, \n",
    "then it is a sparse matrix."
   ]
  },
  {
   "cell_type": "markdown",
   "metadata": {},
   "source": [
    "## Why do we need to exploit sparsity?\n",
    "- Sparsity in the input data increases with the dimension.\n",
    "- Exploiting sparsity \n",
    "  * keeps the data size small\n",
    "  * saves memory\n",
    "  * reduces the running time  \n",
    "  * improves the efficiency of the model"
   ]
  },
  {
   "cell_type": "markdown",
   "metadata": {},
   "source": [
    "## How to exploit sparsity in Julia?\n",
    "- Define `struct` and create a `dictionary` or an `array` of it."
   ]
  },
  {
   "cell_type": "markdown",
   "metadata": {},
   "source": [
    "# A test example: Transportation Problem\n",
    "Consider a transportation problem which is going to be our test example:\n",
    "\n",
    "- **Problem setup:** Some products have to transported from origin cities to destination cities  \n",
    "- **Objective:** Minimize the total cost of shipment over all **relevant** routes\n",
    "- **Decision Variables:** Find the optimum amount of every product to be shipped from one city to another\n",
    "- **Constraints:**\n",
    "   * How much of a product a city can supply to other cities is fixed. \n",
    "   * The amount of any product demanded by a city is also fixed. \n",
    "   * The total amount of products shipped between every pair of different cities can not exceed a given limit. \n",
    "\n",
    "Suppose there are ten cities and three products in our problem."
   ]
  },
  {
   "cell_type": "code",
   "execution_count": 1,
   "metadata": {},
   "outputs": [
    {
     "data": {
      "text/plain": [
       "3-element Array{Symbol,1}:\n",
       " :smartphone\n",
       " :tablet    \n",
       " :laptop    "
      ]
     },
     "execution_count": 1,
     "metadata": {},
     "output_type": "execute_result"
    }
   ],
   "source": [
    "cities = \n",
    "[\n",
    ":BANGKOK; :LONDON; :PARIS; :SINGAPORE;  :NEWYORK;  :ISTANBUL;  :DUBAI;  :KUALALUMPUR;  :HONGKONG;  :BARCELONA \n",
    "]\n",
    "\n",
    "products   = \n",
    "[\n",
    ":smartphone; :tablet; :laptop\n",
    "]"
   ]
  },
  {
   "cell_type": "markdown",
   "metadata": {},
   "source": [
    "# Defining structs\n",
    "If we do not exploit sparsity, then number of ways we can ship the products from one city to other will be\n",
    " $3 \\times (^{10}P_2+10)=300$. \n",
    "\n",
    "Clearly many of them will be redundant, because of reasons like\n",
    "- a product might not be needed by a city\n",
    "- a product might not be produced by a city etc.\n",
    "\n",
    "We just need to consider *relevant route*s, where a product can be shipped \n",
    "from one production city to the other demand city. So a *relevant route* can be defined by 3 features:\n",
    "\n",
    "- a product\n",
    "- a city that produces that product\n",
    "- a city that demands that product\n",
    "\n",
    "So, we define an `struct` `Route` as follows:"
   ]
  },
  {
   "cell_type": "code",
   "execution_count": 2,
   "metadata": {},
   "outputs": [],
   "source": [
    "struct Route\n",
    "    p::Symbol # p stands for product\n",
    "    o::Symbol # o stands for origin\n",
    "    d::Symbol # d stands for destination\n",
    "end"
   ]
  },
  {
   "cell_type": "markdown",
   "metadata": {},
   "source": [
    "Here the datatype `Symbol` is a special type of immutable string. Then we create an array of only relevant routes."
   ]
  },
  {
   "cell_type": "code",
   "execution_count": 3,
   "metadata": {},
   "outputs": [
    {
     "data": {
      "text/plain": [
       "4-element Array{Route,1}:\n",
       " Route(:smartphone, :BANGKOK, :SINGAPORE)\n",
       " Route(:smartphone, :BANGKOK, :NEWYORK)  \n",
       " Route(:smartphone, :BANGKOK, :ISTANBUL) \n",
       " Route(:smartphone, :BANGKOK, :DUBAI)    "
      ]
     },
     "execution_count": 3,
     "metadata": {},
     "output_type": "execute_result"
    }
   ],
   "source": [
    "routesExample = \n",
    "[\n",
    "  Route(:smartphone,:BANGKOK,:SINGAPORE);\n",
    "  Route(:smartphone,:BANGKOK,:NEWYORK);\n",
    "  Route(:smartphone,:BANGKOK,:ISTANBUL);\n",
    "  Route(:smartphone,:BANGKOK,:DUBAI);\n",
    "]"
   ]
  },
  {
   "cell_type": "markdown",
   "metadata": {},
   "source": [
    "If we want to access $i$th element of the array by typing in `routes[i]`. \n",
    "When we want to access the product name associated with the $it$h element of the array, \n",
    "we can do so by typing `routes[i].p`."
   ]
  },
  {
   "cell_type": "code",
   "execution_count": 4,
   "metadata": {},
   "outputs": [
    {
     "data": {
      "text/plain": [
       "Route(:smartphone, :BANGKOK, :NEWYORK)"
      ]
     },
     "execution_count": 4,
     "metadata": {},
     "output_type": "execute_result"
    }
   ],
   "source": [
    "routesExample[2] # Will give the second route"
   ]
  },
  {
   "cell_type": "markdown",
   "metadata": {},
   "source": []
  },
  {
   "cell_type": "code",
   "execution_count": 5,
   "metadata": {},
   "outputs": [
    {
     "data": {
      "text/plain": [
       ":DUBAI"
      ]
     },
     "execution_count": 5,
     "metadata": {},
     "output_type": "execute_result"
    }
   ],
   "source": [
    "routesExample[4].d # Will give the demand city of the 4th route"
   ]
  },
  {
   "cell_type": "markdown",
   "metadata": {},
   "source": [
    "# Creating new arrays efficiently from existing arrays\n",
    "Often we need to create new arrays, where the elements of them are extracted \n",
    "from some already existing array conditionally. \n",
    "Consider the immutable type `Supply`"
   ]
  },
  {
   "cell_type": "code",
   "execution_count": 6,
   "metadata": {},
   "outputs": [],
   "source": [
    "struct Supply\n",
    "    p::Symbol # p stands for product name\n",
    "    o::Symbol # o stands for the origin city\n",
    "end"
   ]
  },
  {
   "cell_type": "markdown",
   "metadata": {},
   "source": [
    "We want to create an array `suppliesExample`, that contains all relevant product-city pairs, \n",
    "where the particular product is produced in that city. \n",
    "Clearly we can construct this array by plucking each product and corresponding city producing it \n",
    "from `routesExample`. This is how we do it efficiently: \n",
    "\n",
    "- Create an empty array of type `Supply`\n",
    "- Add elements to this array by \n",
    "\n",
    "   * selecting the product and origin from the elements of `routes` \n",
    "   * *push*ing them one by one in `supplies`"
   ]
  },
  {
   "cell_type": "code",
   "execution_count": 7,
   "metadata": {},
   "outputs": [],
   "source": [
    "suppliesExample = Supply[] # Creates a 0 element array of immutable type Supply\n",
    "for r in routesExample # For every element of the route route\n",
    "    push!(suppliesExample, Supply(r.p, r.o)) # pick the product and origin city and push it in  supplies\n",
    "end"
   ]
  },
  {
   "cell_type": "code",
   "execution_count": 8,
   "metadata": {},
   "outputs": [
    {
     "data": {
      "text/plain": [
       "4-element Array{Supply,1}:\n",
       " Supply(:smartphone, :BANGKOK)\n",
       " Supply(:smartphone, :BANGKOK)\n",
       " Supply(:smartphone, :BANGKOK)\n",
       " Supply(:smartphone, :BANGKOK)"
      ]
     },
     "execution_count": 8,
     "metadata": {},
     "output_type": "execute_result"
    }
   ],
   "source": [
    "suppliesExample"
   ]
  },
  {
   "cell_type": "markdown",
   "metadata": {},
   "source": [
    "# Dictionary"
   ]
  },
  {
   "cell_type": "markdown",
   "metadata": {},
   "source": [
    "## What is a dictionary?\n",
    "A dictionary is a data type which can be useful in exploiting sparsity."
   ]
  },
  {
   "cell_type": "markdown",
   "metadata": {},
   "source": [
    "## Why is it needed?\n",
    " Often we might be interested to index a variable by a composite data type, rather than a number."
   ]
  },
  {
   "cell_type": "markdown",
   "metadata": {},
   "source": [
    "For example, for the transportation problem in consideration, \n",
    "it would be more convenient to index the decision variables in the routes that are present. Let"
   ]
  },
  {
   "cell_type": "markdown",
   "metadata": {},
   "source": [
    "$$\n",
    "\\begin{align*}\n",
    "R=\\{(p,o,d) \\in P \\times C \\times C: \\text{product } p \\text{ has to be transported from city } o \\text{ to city } d\\}\n",
    "\\end{align*}\n",
    "$$"
   ]
  },
  {
   "cell_type": "markdown",
   "metadata": {},
   "source": [
    "be the set of all the routes that are relevant for the problem. So, we can define our decision variables as below:"
   ]
  },
  {
   "cell_type": "markdown",
   "metadata": {},
   "source": [
    "$$\n",
    "\\begin{align*}\n",
    "\\forall (p,o,d) \\in R \\left(x_{(p,o,d)}= \\text{the amount of a product } p \\text{ that is transported from city } o \\text{ city d} \\right)\n",
    "\\end{align*}\n",
    "$$"
   ]
  },
  {
   "cell_type": "markdown",
   "metadata": {},
   "source": [
    "From a data structure point of view, $ \\left(x_{(p,o,d)}\\right)_{(p,o,d) \\in R}$ is a dictionary which"
   ]
  },
  {
   "cell_type": "markdown",
   "metadata": {},
   "source": [
    "- takes $(p,o,d) \\in R$ as its **key** and \n",
    "- has the **value** the optimum amount of the product $p$ to be shipped from city $o$ to city $d$."
   ]
  },
  {
   "cell_type": "markdown",
   "metadata": {},
   "source": [
    "## Efficiently Constructing Dictionary of structs\n",
    "Suppose we want to create a dictionary  called `costRoutes`. \n",
    "Every element of the dictionary `costRoutes` contains the value of shipping cost \n",
    "along a particular route belonging to the array `routesExample`. So,"
   ]
  },
  {
   "cell_type": "markdown",
   "metadata": {},
   "source": [
    "- the **key** to an element belonging to the dictionary is a specific route belonging to the array `routesExample`\n",
    "- the **value** is the cost for that shipment."
   ]
  },
  {
   "cell_type": "markdown",
   "metadata": {},
   "source": [
    "Suppose the values of the costs are stored in an array named `costCofExample`."
   ]
  },
  {
   "cell_type": "code",
   "execution_count": 9,
   "metadata": {},
   "outputs": [
    {
     "data": {
      "text/plain": [
       "4-element Array{Float64,1}:\n",
       " 120.0\n",
       " 205.0\n",
       " 310.0\n",
       "  45.0"
      ]
     },
     "execution_count": 9,
     "metadata": {},
     "output_type": "execute_result"
    }
   ],
   "source": [
    "costCofExample = [120; 205; 310; 45.0]"
   ]
  },
  {
   "cell_type": "markdown",
   "metadata": {},
   "source": [
    "We create the dictionary `costRoutes` similar to an array:"
   ]
  },
  {
   "cell_type": "markdown",
   "metadata": {},
   "source": [
    "- we create an empty dictionary, and then\n",
    "- use the command \n",
    "`setindex!(name_of_dictionary, value, key)` \n",
    "or \n",
    "`name_of_dictionary[key]=value`\n",
    "to add new elements in the dictionary one by one"
   ]
  },
  {
   "cell_type": "code",
   "execution_count": 10,
   "metadata": {},
   "outputs": [
    {
     "data": {
      "text/plain": [
       "Dict{Route,Float64} with 0 entries"
      ]
     },
     "execution_count": 10,
     "metadata": {},
     "output_type": "execute_result"
    }
   ],
   "source": [
    "costRoutesExample=Dict{Route, Float64}()# Create an empty dictionary"
   ]
  },
  {
   "cell_type": "markdown",
   "metadata": {},
   "source": [
    "where the key is `Route` and the value is `Float64`"
   ]
  },
  {
   "cell_type": "code",
   "execution_count": 11,
   "metadata": {},
   "outputs": [],
   "source": [
    "for i in 1:length(routesExample)\n",
    "   costRoutesExample[routesExample[i]]=costCofExample[i] # routesExample[i] is the key, and costCofExample[i] is the value\n",
    "end"
   ]
  },
  {
   "cell_type": "markdown",
   "metadata": {},
   "source": []
  },
  {
   "cell_type": "code",
   "execution_count": 12,
   "metadata": {},
   "outputs": [
    {
     "data": {
      "text/plain": [
       "Dict{Route,Float64} with 4 entries:\n",
       "  Route(:smartphone, :BANGKOK, :ISTANBUL)  => 310.0\n",
       "  Route(:smartphone, :BANGKOK, :SINGAPORE) => 120.0\n",
       "  Route(:smartphone, :BANGKOK, :NEWYORK)   => 205.0\n",
       "  Route(:smartphone, :BANGKOK, :DUBAI)     => 45.0"
      ]
     },
     "execution_count": 12,
     "metadata": {},
     "output_type": "execute_result"
    }
   ],
   "source": [
    "costRoutesExample"
   ]
  },
  {
   "cell_type": "markdown",
   "metadata": {},
   "source": [
    "After the dictionary is initialized, we can access the cost associated with some route `routes[i]` \n",
    "by typing in `costRoutes[routes[i]]`"
   ]
  },
  {
   "cell_type": "code",
   "execution_count": 13,
   "metadata": {},
   "outputs": [
    {
     "data": {
      "text/plain": [
       "45.0"
      ]
     },
     "execution_count": 13,
     "metadata": {},
     "output_type": "execute_result"
    }
   ],
   "source": [
    "costRoutesExample[routesExample[4]]"
   ]
  },
  {
   "cell_type": "markdown",
   "metadata": {},
   "source": [
    "Or we can input the description of the route itself:"
   ]
  },
  {
   "cell_type": "code",
   "execution_count": 14,
   "metadata": {},
   "outputs": [
    {
     "data": {
      "text/plain": [
       "Route(:smartphone, :BANGKOK, :ISTANBUL)"
      ]
     },
     "execution_count": 14,
     "metadata": {},
     "output_type": "execute_result"
    }
   ],
   "source": [
    "routesExample[3]"
   ]
  },
  {
   "cell_type": "markdown",
   "metadata": {},
   "source": []
  },
  {
   "cell_type": "code",
   "execution_count": 15,
   "metadata": {},
   "outputs": [
    {
     "data": {
      "text/plain": [
       "310.0"
      ]
     },
     "execution_count": 15,
     "metadata": {},
     "output_type": "execute_result"
    }
   ],
   "source": [
    "costRoutesExample[Route(:smartphone,:BANGKOK,:ISTANBUL)]"
   ]
  },
  {
   "cell_type": "markdown",
   "metadata": {},
   "source": [
    "# Mathematical representation of the transportation problem\n",
    "The problem is a classic transportation problem. We will consider the sparse representation of the problem. Let"
   ]
  },
  {
   "cell_type": "markdown",
   "metadata": {},
   "source": [
    "$C=\\text{Set of all cities}$"
   ]
  },
  {
   "cell_type": "markdown",
   "metadata": {},
   "source": [
    "$P=\\text{Set of all products}$"
   ]
  },
  {
   "cell_type": "markdown",
   "metadata": {},
   "source": [
    "$R=\\{(p,o,d) \\in P \\times C \\times C: \\text{product } p \\text{ has to be transported from city } o \\text{ to city } d\\}$"
   ]
  },
  {
   "cell_type": "markdown",
   "metadata": {},
   "source": [
    "$\\forall (p,o,d) \\in R \\quad \\left(c_{(p,o,d)} = \\text{cost of transporting some product } p \\text{ from city } o \\text{ to city } d \\right)$"
   ]
  },
  {
   "cell_type": "markdown",
   "metadata": {},
   "source": [
    "$\\forall p \\in P \\quad \\left(O_p = \\text{Set of all origin cities where a product } p \\text{ is produced}\\right)$"
   ]
  },
  {
   "cell_type": "markdown",
   "metadata": {},
   "source": [
    "$\\forall p \\in P \\quad \\left(D_p = \\text{Set of all destination cities where a product } p \\text{has to be delivered}\\right)$"
   ]
  },
  {
   "cell_type": "markdown",
   "metadata": {},
   "source": [
    "$\\forall p \\in P \\; \\forall o \\in O_p \\quad \\left(s_{(p,o)} = \\text{the total amount of the product } p \\text{ that can be supplied by city } o\\right)$"
   ]
  },
  {
   "cell_type": "markdown",
   "metadata": {},
   "source": [
    "$\\forall p \\in P \\; \\forall d \\in D_p \\quad \\left(d_{(p,d)} = \\text{the total amount of the product } p \\text{ that is demanded by city } d\\right)$"
   ]
  },
  {
   "cell_type": "markdown",
   "metadata": {},
   "source": [
    "Total amount of shipped product between each pair of cities cannot exceed $\\gamma$\n",
    "#' \n",
    "The decision variable for this problem is"
   ]
  },
  {
   "cell_type": "markdown",
   "metadata": {},
   "source": [
    "$$\n",
    "\\begin{align*}\n",
    "\\forall (p,o,d) \\in R \\quad \\left(x_{(p,o,d)}= \\text{the amount of a product } p \\text{ that is trasported from city } o \\text{ city d} \\right)\n",
    "\\end{align*}\n",
    "$$"
   ]
  },
  {
   "cell_type": "markdown",
   "metadata": {},
   "source": [
    "The optimization problem can be described as below:"
   ]
  },
  {
   "cell_type": "markdown",
   "metadata": {},
   "source": [
    "$$\n",
    "\\begin{align*}\n",
    "&\\text{minimize} && \\sum_{(p,o,d) \\in R}{c_{(p,o,d)} x_{(p,o,d)}} \\\\\n",
    "&\\text{subject to} && \\\\\n",
    "&       && \\forall p \\in P \\; \\forall o \\in O_p \\quad \\left(\\sum_{d \\in D_p} x_{(p,o,d)}=s_{(p,o)}\\right) \\\\\n",
    "&       && \\text{ : The amount of any product a city can supply to other cities is fixed} \\\\\n",
    "&       && \\forall p \\in P \\; \\forall d \\in D_p \\quad \\left(\\sum_{o \\in O_p}{x_{(p,o,d)}}=d_{(p,d)}\\right) \\\\\n",
    "&       && \\text{ : The amount of any product demanded by a city is also fixed.} \\\\\n",
    "&       && \\forall o \\in C \\; \\forall d \\in C \\setminus \\{o\\} \\quad \n",
    "            \\left(\\sum_{(p,\\bar{o},\\bar{d}) \\in R \\; : \\; o=\\bar{o} \\wedge d=\\bar{d}}{x_{(p,\\bar{o},\\bar{d})}}\\leq \\gamma\\right) \\\\\n",
    "&       && \\text{ :The total amount of products shipped between every pair of different cities can not exceed a given limit.}\n",
    "\\end{align*}\n",
    "$$"
   ]
  },
  {
   "cell_type": "markdown",
   "metadata": {},
   "source": [
    "# Mapping of the mathematical symbols to JuMP"
   ]
  },
  {
   "cell_type": "markdown",
   "metadata": {},
   "source": [
    "In the data file, the symbols in the model above are mapped as follows:\n",
    "\n",
    "| Mathematical Symbol                       | In the code      |   Comment   |\n",
    "|----------------------                     |------------      |-----------:|\n",
    "| $C$                                       | `cities`         | `cities` is an array of `Symbol`s |\n",
    "| $P$                                       | `products`       | `products` is an array of `Symbol`s |\n",
    "| $R$                                       |  `routes`        | `routes` is an array of immutable type `Route` |\n",
    "| $(O_p)_{p \\in P}$                         |    `orig`        | `orig` is a dictionary    |\n",
    "| $(D_p)_{p \\in P}$                         |     `dest`       | `dest` is a dictionary    |\n",
    "| $((s_{(p,o)})_{o \\in O_p})_{p \\in P}$     |  `suppliedAmount`| `suppliedAmount` is a dictionary |\n",
    "| $((d_{(p,d)})_{d \\in D_p})_{p \\in P}$     | `demandedAmount` | `demandedAmount` is a dictionary with      key                                           `Customer` and value `Float64` |\n",
    "|  $(x_{(p,o,d)})_{(p,o,d) \\in R}$          | `trans`          |  `trans` is a dictionary and the variable in the problem |\n",
    "|  $(c_{(p,o,d)})_{(p,o,d) \\in R}$          | `costRoutes`     | `costRoutes` is a dictionary                |\n",
    "|  $\\gamma$                                 | `capacity`       |       It is of type `Float64`               |"
   ]
  },
  {
   "cell_type": "markdown",
   "metadata": {},
   "source": [
    "# Problem Data"
   ]
  },
  {
   "cell_type": "code",
   "execution_count": 16,
   "metadata": {},
   "outputs": [],
   "source": [
    "cities = \n",
    "[\n",
    ":BANGKOK; :LONDON; :PARIS; :SINGAPORE;  :NEWYORK;  :ISTANBUL;  :DUBAI;  :KUALALUMPUR;  :HONGKONG;  :BARCELONA \n",
    "]\n",
    "\n",
    "products   = \n",
    "[\n",
    ":smartphone; :tablet; :laptop\n",
    "]\n",
    "\n",
    "capacity    = 700\n",
    "\n",
    "struct Route\n",
    "    p::Symbol # p stands for product\n",
    "    o::Symbol # o stands for origin\n",
    "    d::Symbol # d stands for destination\n",
    "end\n",
    "\n",
    "routes = \n",
    "[\n",
    "  Route(:smartphone,:BANGKOK,:SINGAPORE);\n",
    "  Route(:smartphone,:BANGKOK,:NEWYORK);\n",
    "  Route(:smartphone,:BANGKOK,:ISTANBUL);\n",
    "  Route(:smartphone,:BANGKOK,:DUBAI);\n",
    "  Route(:smartphone,:BANGKOK,:KUALALUMPUR);\n",
    "  Route(:smartphone,:BANGKOK,:HONGKONG);\n",
    "  Route(:smartphone,:BANGKOK,:BARCELONA);\n",
    "  Route(:smartphone,:LONDON,:SINGAPORE);\n",
    "  Route(:smartphone,:LONDON,:NEWYORK);\n",
    "  Route(:smartphone,:LONDON,:ISTANBUL);\n",
    "  Route(:smartphone,:LONDON,:DUBAI);\n",
    "  Route(:smartphone,:LONDON,:KUALALUMPUR);\n",
    "  Route(:smartphone,:LONDON,:HONGKONG);\n",
    "  Route(:smartphone,:LONDON,:BARCELONA); \n",
    "  Route(:smartphone,:PARIS,:SINGAPORE);\n",
    "  Route(:smartphone,:PARIS,:NEWYORK);\n",
    "  Route(:smartphone,:PARIS,:ISTANBUL);\n",
    "  Route(:smartphone,:PARIS,:DUBAI);\n",
    "  Route(:smartphone,:PARIS,:KUALALUMPUR);\n",
    "  Route(:smartphone,:PARIS,:HONGKONG);\n",
    "  Route(:smartphone,:PARIS,:BARCELONA); \n",
    "\n",
    "  Route(:tablet,:BANGKOK,:SINGAPORE);\n",
    "  Route(:tablet,:BANGKOK,:NEWYORK);\n",
    "  Route(:tablet,:BANGKOK,:ISTANBUL);\n",
    "  Route(:tablet,:BANGKOK,:DUBAI);\n",
    "  Route(:tablet,:BANGKOK,:KUALALUMPUR);\n",
    "  Route(:tablet,:BANGKOK,:HONGKONG);\n",
    "  Route(:tablet,:BANGKOK,:BARCELONA); \n",
    "\n",
    "  Route(:tablet,:LONDON,:SINGAPORE);\n",
    "  Route(:tablet,:LONDON,:NEWYORK);\n",
    "  Route(:tablet,:LONDON,:ISTANBUL);\n",
    "  Route(:tablet,:LONDON,:DUBAI);\n",
    "  Route(:tablet,:LONDON,:KUALALUMPUR);\n",
    "  Route(:tablet,:LONDON,:HONGKONG);\n",
    "  Route(:tablet,:LONDON,:BARCELONA); \n",
    "\n",
    "  Route(:tablet,:PARIS,:SINGAPORE);\n",
    "  Route(:tablet,:PARIS,:NEWYORK);\n",
    "  Route(:tablet,:PARIS,:ISTANBUL);\n",
    "  Route(:tablet,:PARIS,:DUBAI);\n",
    "  Route(:tablet,:PARIS,:KUALALUMPUR);\n",
    "  Route(:tablet,:PARIS,:HONGKONG);\n",
    "  Route(:tablet,:PARIS,:BARCELONA); \n",
    "\n",
    "  Route(:laptop,:BANGKOK,:SINGAPORE);\n",
    "  Route(:laptop,:BANGKOK,:NEWYORK);\n",
    "  Route(:laptop,:BANGKOK,:ISTANBUL);\n",
    "  Route(:laptop,:BANGKOK,:DUBAI);\n",
    "  Route(:laptop,:BANGKOK,:KUALALUMPUR);\n",
    "  Route(:laptop,:BANGKOK,:HONGKONG);\n",
    "  Route(:laptop,:BANGKOK,:BARCELONA); \n",
    "\n",
    "  Route(:laptop,:LONDON,:SINGAPORE);\n",
    "  Route(:laptop,:LONDON,:NEWYORK);\n",
    "  Route(:laptop,:LONDON,:ISTANBUL);\n",
    "  Route(:laptop,:LONDON,:DUBAI);\n",
    "  Route(:laptop,:LONDON,:KUALALUMPUR);\n",
    "  Route(:laptop,:LONDON,:HONGKONG);\n",
    "  Route(:laptop,:LONDON,:BARCELONA); \n",
    "\n",
    "  Route(:laptop,:PARIS,:SINGAPORE);\n",
    "  Route(:laptop,:PARIS,:NEWYORK);\n",
    "  Route(:laptop,:PARIS,:ISTANBUL);\n",
    "  Route(:laptop,:PARIS,:DUBAI);\n",
    "  Route(:laptop,:PARIS,:KUALALUMPUR);\n",
    "  Route(:laptop,:PARIS,:HONGKONG);\n",
    "  Route(:laptop,:PARIS,:BARCELONA); \n",
    "]\n",
    "\n",
    "struct Supply\n",
    "    p::Symbol\n",
    "    o::Symbol\n",
    "end"
   ]
  },
  {
   "cell_type": "markdown",
   "metadata": {},
   "source": [
    "## Creating the array `supplies`"
   ]
  },
  {
   "cell_type": "code",
   "execution_count": 17,
   "metadata": {},
   "outputs": [],
   "source": [
    "supplies = Supply[] # Creates a 0 element array of immutable type Supply\n",
    "for r in routes\n",
    "    push!(supplies, Supply(r.p, r.o))\n",
    "end"
   ]
  },
  {
   "cell_type": "markdown",
   "metadata": {},
   "source": [
    "## Creating `suppliedAmount` dictionary\n",
    "It might be better to create this as a dictionary, where the key is the element of the array `supplies` \n",
    "and the value is the corresponding supplied amount"
   ]
  },
  {
   "cell_type": "code",
   "execution_count": 18,
   "metadata": {},
   "outputs": [],
   "source": [
    "suppliedAmount = Dict{Supply, Float64}()\n",
    "for s in supplies\n",
    "    if s.p == :smartphone && s.o == :LONDON\n",
    "        suppliedAmount[s]=800\n",
    "        elseif s.p == :smartphone && s.o==:BANGKOK\n",
    "        suppliedAmount[s]=500\n",
    "        elseif s.p == :smartphone && s.o==:PARIS\n",
    "        suppliedAmount[s]=600\n",
    "        elseif s.p == :tablet && s.o==:BANGKOK\n",
    "        suppliedAmount[s]=1000\n",
    "        elseif s.p == :tablet && s.o==:LONDON\n",
    "        suppliedAmount[s]=1500\n",
    "        elseif s.p == :tablet && s.o == :PARIS\n",
    "        suppliedAmount[s]=1700\n",
    "        elseif s.p == :laptop && s.o == :BANGKOK\n",
    "        suppliedAmount[s]=150\n",
    "        elseif s.p == :laptop && s.o == :LONDON\n",
    "        suppliedAmount[s]=250\n",
    "        elseif s.p == :laptop && s.o == :PARIS\n",
    "        suppliedAmount[s]=400  \n",
    "end #if\n",
    "end #for\n",
    "\n",
    "struct Customer\n",
    "    p::Symbol\n",
    "    d::Symbol\n",
    "end"
   ]
  },
  {
   "cell_type": "markdown",
   "metadata": {},
   "source": [
    "## Creating `customers` array, which is an array of custom immutable `Customer`"
   ]
  },
  {
   "cell_type": "code",
   "execution_count": 19,
   "metadata": {},
   "outputs": [
    {
     "data": {
      "text/plain": [
       "63-element Array{Int64,1}:\n",
       "  34\n",
       "   7\n",
       "   8\n",
       "  10\n",
       "  11\n",
       "  74\n",
       "   9\n",
       "  18\n",
       "   5\n",
       "  15\n",
       "   6\n",
       "  23\n",
       "  81\n",
       "   ⋮\n",
       "  17\n",
       "   8\n",
       "  32\n",
       " 100\n",
       "  18\n",
       "  28\n",
       "  15\n",
       "  18\n",
       "  16\n",
       "  30\n",
       " 102\n",
       "  15"
      ]
     },
     "execution_count": 19,
     "metadata": {},
     "output_type": "execute_result"
    }
   ],
   "source": [
    "customers = Customer[]\n",
    "for r in routes\n",
    "    push!(customers, Customer(r.p, r.d))\n",
    "end\n",
    "\n",
    "demandedAmount = Dict{Customer, Float64}()\n",
    "for c in customers\n",
    "#1\n",
    "    if c.p==:smartphone && c.d==:SINGAPORE\n",
    "        demandedAmount[c]=400 \n",
    "#2\n",
    "        elseif c.p==:tablet && c.d==:SINGAPORE\n",
    "        demandedAmount[c]=600\n",
    "#3\n",
    "        elseif c.p==:laptop && c.d==:SINGAPORE\n",
    "        demandedAmount[c]=90\n",
    "#4\n",
    "        elseif c.p==:smartphone && c.d==:NEWYORK\n",
    "        demandedAmount[c]=200\n",
    "#5\n",
    "        elseif c.p==:tablet && c.d==:NEWYORK\n",
    "        demandedAmount[c]=650\n",
    "#6\n",
    "        elseif c.p==:laptop && c.d==:NEWYORK \n",
    "        demandedAmount[c]=110\n",
    "#7\n",
    "        elseif c.p==:smartphone && c.d==:ISTANBUL\n",
    "        demandedAmount[c]=100\n",
    "#8\n",
    "        elseif c.p==:tablet && c.d==:ISTANBUL\n",
    "        demandedAmount[c]=300\n",
    "#9\n",
    "        elseif c.p==:laptop && c.d==:ISTANBUL\n",
    "        demandedAmount[c]=0\n",
    "#10\n",
    "        elseif c.p==:smartphone && c.d==:DUBAI\n",
    "        demandedAmount[c]=175\n",
    "#11\n",
    "    elseif c.p==:tablet && c.d==:DUBAI\n",
    "        demandedAmount[c]=350\n",
    "#12\n",
    "    elseif c.p==:laptop && c.d==:DUBAI\n",
    "        demandedAmount[c]=65\n",
    "#13\n",
    "    elseif c.p==:smartphone && c.d==:KUALALUMPUR\n",
    "        demandedAmount[c]=550\n",
    "#14\n",
    "    elseif c.p==:tablet && c.d==:KUALALUMPUR\n",
    "        demandedAmount[c]=950\n",
    "#15\n",
    "    elseif c.p==:laptop && c.d==:KUALALUMPUR\n",
    "        demandedAmount[c]=185\n",
    "#16\n",
    "    elseif c.p==:smartphone && c.d==:HONGKONG\n",
    "        demandedAmount[c]=200\n",
    "#17\n",
    "    elseif c.p==:tablet && c.d==:HONGKONG\n",
    "        demandedAmount[c]=750\n",
    "#18\n",
    "    elseif c.p==:laptop && c.d==:HONGKONG\n",
    "        demandedAmount[c]=150\n",
    "#19\n",
    "    elseif c.p==:smartphone && c.d==:BARCELONA\n",
    "        demandedAmount[c]=275\n",
    "#20\n",
    "    elseif c.p==:tablet && c.d==:BARCELONA\n",
    "        demandedAmount[c]=600\n",
    "#21   \n",
    "    elseif c.p==:laptop && c.d==:BARCELONA\n",
    "        demandedAmount[c]=200\n",
    "    end\n",
    "end\n",
    "\n",
    "\n",
    "costCof = \n",
    "[34; 7; 8; 10; 11; 74; 9; 18; 5; 15; 6; 23; 81; 18; 20; 10; 9; \n",
    " 13; 25; 85; 13; 40; 17; 7; 16; 20; 80; 9; 24; 5; 15; 11; 23; \n",
    "90; 22; 19; 15; 16; 15; 24; 100; 21; 37; 12; 9; 16; 14; \n",
    "88; 9; 28; 13; 17; 8; 32; 100; 18; 28; 15; 18; 16; 30; 102; 15]"
   ]
  },
  {
   "cell_type": "markdown",
   "metadata": {},
   "source": [
    "## Creating `costRoutes` dictionary which contains the costs of the relevant routes"
   ]
  },
  {
   "cell_type": "code",
   "execution_count": 20,
   "metadata": {},
   "outputs": [],
   "source": [
    "costRoutes=Dict{Route, Float64}()\n",
    "for i in 1:length(routes)\n",
    "    costRoutes[routes[i]]=costCof[i]\n",
    "end"
   ]
  },
  {
   "cell_type": "markdown",
   "metadata": {},
   "source": [
    "## Creating `orig`, which takes the product as the input and gives the set of origins of that product"
   ]
  },
  {
   "cell_type": "code",
   "execution_count": 21,
   "metadata": {},
   "outputs": [],
   "source": [
    "orig = Dict{Symbol, Array}()\n",
    "for i in 1:length(products)\n",
    "    dummy_array = Symbol[]\n",
    "  for j in 1:length(routes)\n",
    "        #println(i, j, products[i] == routes[j].p)\n",
    "        if products[i] == routes[j].p\n",
    "            push!(dummy_array, routes[j].o)\n",
    "            #println(orig[products[i]])\n",
    "        else \n",
    "        #println(\"Oops, something is not right\")\n",
    "        end #if\n",
    "    end #for \n",
    "    orig[products[i]]=unique(dummy_array)\n",
    "end #for"
   ]
  },
  {
   "cell_type": "markdown",
   "metadata": {},
   "source": [
    "## Creating `dest`, which takes the product as the input and gives the set of destinations of that product"
   ]
  },
  {
   "cell_type": "code",
   "execution_count": 22,
   "metadata": {},
   "outputs": [],
   "source": [
    "dest = Dict{Symbol, Array}()\n",
    "for i in 1:length(products)\n",
    "    dummy_array = Symbol[]\n",
    "  for j in 1:length(routes)\n",
    "        #println(i, j, products[i] == routes[j].p)\n",
    "        if products[i] == routes[j].p\n",
    "            push!(dummy_array, routes[j].d)\n",
    "            #println(orig[products[i]])\n",
    "        else \n",
    "        #println(\"Oops, something is not right\")\n",
    "            end #if\n",
    "        end #for \n",
    "    dest[products[i]]=unique(dummy_array)\n",
    "end #for"
   ]
  },
  {
   "cell_type": "markdown",
   "metadata": {},
   "source": [
    "# JuMP Model"
   ]
  },
  {
   "cell_type": "code",
   "execution_count": 23,
   "metadata": {},
   "outputs": [
    {
     "data": {
      "text/latex": [
       "$$ 34 trans_{Route(:smartphone, :BANGKOK, :SINGAPORE)} + 7 trans_{Route(:smartphone, :BANGKOK, :NEWYORK)} + 8 trans_{Route(:smartphone, :BANGKOK, :ISTANBUL)} + 10 trans_{Route(:smartphone, :BANGKOK, :DUBAI)} + 11 trans_{Route(:smartphone, :BANGKOK, :KUALALUMPUR)} + 74 trans_{Route(:smartphone, :BANGKOK, :HONGKONG)} + 9 trans_{Route(:smartphone, :BANGKOK, :BARCELONA)} + 18 trans_{Route(:smartphone, :LONDON, :SINGAPORE)} + 5 trans_{Route(:smartphone, :LONDON, :NEWYORK)} + 15 trans_{Route(:smartphone, :LONDON, :ISTANBUL)} + 6 trans_{Route(:smartphone, :LONDON, :DUBAI)} + 23 trans_{Route(:smartphone, :LONDON, :KUALALUMPUR)} + 81 trans_{Route(:smartphone, :LONDON, :HONGKONG)} + 18 trans_{Route(:smartphone, :LONDON, :BARCELONA)} + 20 trans_{Route(:smartphone, :PARIS, :SINGAPORE)} + 10 trans_{Route(:smartphone, :PARIS, :NEWYORK)} + 9 trans_{Route(:smartphone, :PARIS, :ISTANBUL)} + 13 trans_{Route(:smartphone, :PARIS, :DUBAI)} + 25 trans_{Route(:smartphone, :PARIS, :KUALALUMPUR)} + 85 trans_{Route(:smartphone, :PARIS, :HONGKONG)} + 13 trans_{Route(:smartphone, :PARIS, :BARCELONA)} + 40 trans_{Route(:tablet, :BANGKOK, :SINGAPORE)} + 17 trans_{Route(:tablet, :BANGKOK, :NEWYORK)} + 7 trans_{Route(:tablet, :BANGKOK, :ISTANBUL)} + 16 trans_{Route(:tablet, :BANGKOK, :DUBAI)} + 20 trans_{Route(:tablet, :BANGKOK, :KUALALUMPUR)} + 80 trans_{Route(:tablet, :BANGKOK, :HONGKONG)} + 9 trans_{Route(:tablet, :BANGKOK, :BARCELONA)} + 24 trans_{Route(:tablet, :LONDON, :SINGAPORE)} + 5 trans_{Route(:tablet, :LONDON, :NEWYORK)} + 15 trans_{Route(:tablet, :LONDON, :ISTANBUL)} + 11 trans_{Route(:tablet, :LONDON, :DUBAI)} + 23 trans_{Route(:tablet, :LONDON, :KUALALUMPUR)} + 90 trans_{Route(:tablet, :LONDON, :HONGKONG)} + 22 trans_{Route(:tablet, :LONDON, :BARCELONA)} + 19 trans_{Route(:tablet, :PARIS, :SINGAPORE)} + 15 trans_{Route(:tablet, :PARIS, :NEWYORK)} + 16 trans_{Route(:tablet, :PARIS, :ISTANBUL)} + 15 trans_{Route(:tablet, :PARIS, :DUBAI)} + 24 trans_{Route(:tablet, :PARIS, :KUALALUMPUR)} + 100 trans_{Route(:tablet, :PARIS, :HONGKONG)} + 21 trans_{Route(:tablet, :PARIS, :BARCELONA)} + 37 trans_{Route(:laptop, :BANGKOK, :SINGAPORE)} + 12 trans_{Route(:laptop, :BANGKOK, :NEWYORK)} + 9 trans_{Route(:laptop, :BANGKOK, :ISTANBUL)} + 16 trans_{Route(:laptop, :BANGKOK, :DUBAI)} + 14 trans_{Route(:laptop, :BANGKOK, :KUALALUMPUR)} + 88 trans_{Route(:laptop, :BANGKOK, :HONGKONG)} + 9 trans_{Route(:laptop, :BANGKOK, :BARCELONA)} + 28 trans_{Route(:laptop, :LONDON, :SINGAPORE)} + 13 trans_{Route(:laptop, :LONDON, :NEWYORK)} + 17 trans_{Route(:laptop, :LONDON, :ISTANBUL)} + 8 trans_{Route(:laptop, :LONDON, :DUBAI)} + 32 trans_{Route(:laptop, :LONDON, :KUALALUMPUR)} + 100 trans_{Route(:laptop, :LONDON, :HONGKONG)} + 18 trans_{Route(:laptop, :LONDON, :BARCELONA)} + 28 trans_{Route(:laptop, :PARIS, :SINGAPORE)} + 15 trans_{Route(:laptop, :PARIS, :NEWYORK)} + 18 trans_{Route(:laptop, :PARIS, :ISTANBUL)} + 16 trans_{Route(:laptop, :PARIS, :DUBAI)} + 30 trans_{Route(:laptop, :PARIS, :KUALALUMPUR)} + 102 trans_{Route(:laptop, :PARIS, :HONGKONG)} + 15 trans_{Route(:laptop, :PARIS, :BARCELONA)} $$"
      ],
      "text/plain": [
       "34 trans[Route(:smartphone, :BANGKOK, :SINGAPORE)] + 7 trans[Route(:smartphone, :BANGKOK, :NEWYORK)] + 8 trans[Route(:smartphone, :BANGKOK, :ISTANBUL)] + 10 trans[Route(:smartphone, :BANGKOK, :DUBAI)] + 11 trans[Route(:smartphone, :BANGKOK, :KUALALUMPUR)] + 74 trans[Route(:smartphone, :BANGKOK, :HONGKONG)] + 9 trans[Route(:smartphone, :BANGKOK, :BARCELONA)] + 18 trans[Route(:smartphone, :LONDON, :SINGAPORE)] + 5 trans[Route(:smartphone, :LONDON, :NEWYORK)] + 15 trans[Route(:smartphone, :LONDON, :ISTANBUL)] + 6 trans[Route(:smartphone, :LONDON, :DUBAI)] + 23 trans[Route(:smartphone, :LONDON, :KUALALUMPUR)] + 81 trans[Route(:smartphone, :LONDON, :HONGKONG)] + 18 trans[Route(:smartphone, :LONDON, :BARCELONA)] + 20 trans[Route(:smartphone, :PARIS, :SINGAPORE)] + 10 trans[Route(:smartphone, :PARIS, :NEWYORK)] + 9 trans[Route(:smartphone, :PARIS, :ISTANBUL)] + 13 trans[Route(:smartphone, :PARIS, :DUBAI)] + 25 trans[Route(:smartphone, :PARIS, :KUALALUMPUR)] + 85 trans[Route(:smartphone, :PARIS, :HONGKONG)] + 13 trans[Route(:smartphone, :PARIS, :BARCELONA)] + 40 trans[Route(:tablet, :BANGKOK, :SINGAPORE)] + 17 trans[Route(:tablet, :BANGKOK, :NEWYORK)] + 7 trans[Route(:tablet, :BANGKOK, :ISTANBUL)] + 16 trans[Route(:tablet, :BANGKOK, :DUBAI)] + 20 trans[Route(:tablet, :BANGKOK, :KUALALUMPUR)] + 80 trans[Route(:tablet, :BANGKOK, :HONGKONG)] + 9 trans[Route(:tablet, :BANGKOK, :BARCELONA)] + 24 trans[Route(:tablet, :LONDON, :SINGAPORE)] + 5 trans[Route(:tablet, :LONDON, :NEWYORK)] + 15 trans[Route(:tablet, :LONDON, :ISTANBUL)] + 11 trans[Route(:tablet, :LONDON, :DUBAI)] + 23 trans[Route(:tablet, :LONDON, :KUALALUMPUR)] + 90 trans[Route(:tablet, :LONDON, :HONGKONG)] + 22 trans[Route(:tablet, :LONDON, :BARCELONA)] + 19 trans[Route(:tablet, :PARIS, :SINGAPORE)] + 15 trans[Route(:tablet, :PARIS, :NEWYORK)] + 16 trans[Route(:tablet, :PARIS, :ISTANBUL)] + 15 trans[Route(:tablet, :PARIS, :DUBAI)] + 24 trans[Route(:tablet, :PARIS, :KUALALUMPUR)] + 100 trans[Route(:tablet, :PARIS, :HONGKONG)] + 21 trans[Route(:tablet, :PARIS, :BARCELONA)] + 37 trans[Route(:laptop, :BANGKOK, :SINGAPORE)] + 12 trans[Route(:laptop, :BANGKOK, :NEWYORK)] + 9 trans[Route(:laptop, :BANGKOK, :ISTANBUL)] + 16 trans[Route(:laptop, :BANGKOK, :DUBAI)] + 14 trans[Route(:laptop, :BANGKOK, :KUALALUMPUR)] + 88 trans[Route(:laptop, :BANGKOK, :HONGKONG)] + 9 trans[Route(:laptop, :BANGKOK, :BARCELONA)] + 28 trans[Route(:laptop, :LONDON, :SINGAPORE)] + 13 trans[Route(:laptop, :LONDON, :NEWYORK)] + 17 trans[Route(:laptop, :LONDON, :ISTANBUL)] + 8 trans[Route(:laptop, :LONDON, :DUBAI)] + 32 trans[Route(:laptop, :LONDON, :KUALALUMPUR)] + 100 trans[Route(:laptop, :LONDON, :HONGKONG)] + 18 trans[Route(:laptop, :LONDON, :BARCELONA)] + 28 trans[Route(:laptop, :PARIS, :SINGAPORE)] + 15 trans[Route(:laptop, :PARIS, :NEWYORK)] + 18 trans[Route(:laptop, :PARIS, :ISTANBUL)] + 16 trans[Route(:laptop, :PARIS, :DUBAI)] + 30 trans[Route(:laptop, :PARIS, :KUALALUMPUR)] + 102 trans[Route(:laptop, :PARIS, :HONGKONG)] + 15 trans[Route(:laptop, :PARIS, :BARCELONA)]"
      ]
     },
     "execution_count": 23,
     "metadata": {},
     "output_type": "execute_result"
    }
   ],
   "source": [
    "using JuMP  \n",
    "using GLPK \n",
    "\n",
    "\n",
    "transpModel = Model(with_optimizer(GLPK.Optimizer))\n",
    "@variable(transpModel, trans[routes] >= 0) \n",
    "@objective(transpModel, Min, sum(costRoutes[l]*trans[l] for l in routes))"
   ]
  },
  {
   "cell_type": "markdown",
   "metadata": {},
   "source": [
    "## First Constraint"
   ]
  },
  {
   "cell_type": "code",
   "execution_count": 24,
   "metadata": {},
   "outputs": [],
   "source": [
    "for pr in products\n",
    "    for org in orig[pr]\n",
    "        @constraint(transpModel, sum(trans[Route(pr, org, de)] for de in dest[pr])\n",
    "                       ==\n",
    "                       suppliedAmount[Supply(pr,org)])\n",
    "    end\n",
    "end"
   ]
  },
  {
   "cell_type": "markdown",
   "metadata": {},
   "source": [
    "## Second Constraint"
   ]
  },
  {
   "cell_type": "code",
   "execution_count": 25,
   "metadata": {},
   "outputs": [],
   "source": [
    "for pr in products\n",
    "    for de in dest[pr]\n",
    "        @constraint(transpModel, sum(trans[Route(pr, org, de)] for org in orig[pr])\n",
    "                       ==\n",
    "        demandedAmount[Customer(pr,de)])\n",
    "    end\n",
    "end"
   ]
  },
  {
   "cell_type": "markdown",
   "metadata": {},
   "source": [
    "## Final constraint:"
   ]
  },
  {
   "cell_type": "code",
   "execution_count": 26,
   "metadata": {},
   "outputs": [
    {
     "name": "stdout",
     "output_type": "stream",
     "text": [
      "The optimal objective value is: 178330.0\n",
      "The optimal solution is, trans= \n",
      "1-dimensional DenseAxisArray{Float64,1,...} with index sets:\n",
      "    Dimension 1, Route[Route(:smartphone, :BANGKOK, :SINGAPORE), Route(:smartphone, :BANGKOK, :NEWYORK), Route(:smartphone, :BANGKOK, :ISTANBUL), Route(:smartphone, :BANGKOK, :DUBAI), Route(:smartphone, :BANGKOK, :KUALALUMPUR), Route(:smartphone, :BANGKOK, :HONGKONG), Route(:smartphone, :BANGKOK, :BARCELONA), Route(:smartphone, :LONDON, :SINGAPORE), Route(:smartphone, :LONDON, :NEWYORK), Route(:smartphone, :LONDON, :ISTANBUL)  …  Route(:laptop, :LONDON, :KUALALUMPUR), Route(:laptop, :LONDON, :HONGKONG), Route(:laptop, :LONDON, :BARCELONA), Route(:laptop, :PARIS, :SINGAPORE), Route(:laptop, :PARIS, :NEWYORK), Route(:laptop, :PARIS, :ISTANBUL), Route(:laptop, :PARIS, :DUBAI), Route(:laptop, :PARIS, :KUALALUMPUR), Route(:laptop, :PARIS, :HONGKONG), Route(:laptop, :PARIS, :BARCELONA)]\n",
      "And data, a 63-element Array{Float64,1}:\n",
      "   0.0\n",
      "   0.0\n",
      "   0.0\n",
      "   0.0\n",
      " 500.0\n",
      "   0.0\n",
      "   0.0\n",
      " 355.0\n",
      "  50.0\n",
      "   0.0\n",
      " 175.0\n",
      "  20.0\n",
      " 200.0\n",
      "   0.0\n",
      "  45.0\n",
      " 150.0\n",
      " 100.0\n",
      "   0.0\n",
      "  30.0\n",
      "   0.0\n",
      " 275.0\n",
      "   0.0\n",
      "   0.0\n",
      "   0.0\n",
      "   0.0\n",
      "   0.0\n",
      " 565.0\n",
      " 435.0\n",
      "   0.0\n",
      " 650.0\n",
      "   0.0\n",
      " 350.0\n",
      " 315.0\n",
      " 185.0\n",
      "   0.0\n",
      " 600.0\n",
      "   0.0\n",
      " 300.0\n",
      "   0.0\n",
      " 635.0\n",
      "   0.0\n",
      " 165.0\n",
      "   0.0\n",
      "   0.0\n",
      "   0.0\n",
      "   0.0\n",
      " 150.0\n",
      "   0.0\n",
      "   0.0\n",
      "  35.0\n",
      "   0.0\n",
      "   0.0\n",
      "  65.0\n",
      "   0.0\n",
      " 150.0\n",
      "   0.0\n",
      "  55.0\n",
      " 110.0\n",
      "   0.0\n",
      "   0.0\n",
      "  35.0\n",
      "   0.0\n",
      " 200.0\n"
     ]
    }
   ],
   "source": [
    "for org in cities\n",
    "    for de in cities\n",
    "        if org!=de\n",
    "        @constraint(transpModel, \n",
    "        sum(\n",
    "            trans[r] for r in routes\n",
    "            if r.o == org && r.d==de # This will be used as an filtering condition\n",
    "        )\n",
    "                       <=\n",
    "        capacity)\n",
    "        else\n",
    "            continue\n",
    "        end\n",
    "    end\n",
    "end\n",
    "                \n",
    "statusMipModel = optimize!(transpModel) \n",
    "\n",
    "println(\"The optimal objective value is: \", objective_value(transpModel))\n",
    "\n",
    "println(\"The optimal solution is, trans= \\n\", value.(trans))"
   ]
  }
 ],
 "metadata": {
  "kernelspec": {
   "display_name": "Julia 1.0.3",
   "language": "julia",
   "name": "julia-1.0"
  },
  "language_info": {
   "file_extension": ".jl",
   "mimetype": "application/julia",
   "name": "julia",
   "version": "1.0.3"
  }
 },
 "nbformat": 4,
 "nbformat_minor": 2
}
