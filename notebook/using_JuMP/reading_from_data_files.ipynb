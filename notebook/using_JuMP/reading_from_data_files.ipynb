{
  "cells": [
    {
      "cell_type": "markdown",
      "source": [
        "# Reading From Data Files\n### Arpit Bhatia"
      ],
      "metadata": {}
    },
    {
      "cell_type": "markdown",
      "source": [
        "In many cases we might need to read data available in an external file rather than type it into Julia ourselves.\nThis tutorial is concerned with reading tabular data into Julia and using it for a JuMP model. \nWe'll be reading data using the DataFrames.jl package and some other packages specific to file types."
      ],
      "metadata": {}
    },
    {
      "cell_type": "markdown",
      "source": [
        "Note: There are multiple ways to read the same kind of data intto Julia.\nHowever, this tutorial only focuses on DataFrames.jl as\nit provides the ecosystem to work with most of the required file types in a straightforward manner."
      ],
      "metadata": {}
    },
    {
      "cell_type": "markdown",
      "source": [
        "## DataFrames.jl"
      ],
      "metadata": {}
    },
    {
      "cell_type": "markdown",
      "source": [
        "The DataFrames package provides a set of tools for working with tabular data. \nIt is available through the Julia package system."
      ],
      "metadata": {}
    },
    {
      "outputs": [],
      "cell_type": "code",
      "source": [
        "using Pkg\nPkg.add(\"DataFrames\")"
      ],
      "metadata": {},
      "execution_count": null
    },
    {
      "cell_type": "markdown",
      "source": [
        "## What is a DataFrame?"
      ],
      "metadata": {}
    },
    {
      "cell_type": "markdown",
      "source": [
        "A DataFrame is a data structure like a table or spreadsheet. You can use it for storing and exploring a set of related data values. \nThink of it as a smarter array for holding tabular data."
      ],
      "metadata": {}
    },
    {
      "cell_type": "markdown",
      "source": [
        "# Reading Tabular Data into a DataFrame\nWe will begin by reading data from different file formats into a DataFrame object.\nThe example files that we will be reading are present in the data folder."
      ],
      "metadata": {}
    },
    {
      "cell_type": "markdown",
      "source": [
        "## Excel Sheets\nExcel files can be read using the ExcelFiles.jl package."
      ],
      "metadata": {}
    },
    {
      "outputs": [],
      "cell_type": "code",
      "source": [
        "Pkg.add(\"ExcelFiles\")"
      ],
      "metadata": {},
      "execution_count": null
    },
    {
      "cell_type": "markdown",
      "source": [
        "To read a Excel file into a DataFrame, we use the following julia code. \nThe first arguement to the load function is the file to be read and the second arguement is the name of the sheet."
      ],
      "metadata": {}
    },
    {
      "outputs": [],
      "cell_type": "code",
      "source": [
        "using DataFrames\nusing ExcelFiles\nexcel_df = DataFrame(load(\"data/SalesData.xlsx\", \"SalesOrders\"))"
      ],
      "metadata": {},
      "execution_count": null
    },
    {
      "cell_type": "markdown",
      "source": [
        "## CSV Files\nCSV and other delimited text files can be read the CSV.jl package."
      ],
      "metadata": {}
    },
    {
      "outputs": [],
      "cell_type": "code",
      "source": [
        "Pkg.add(\"CSV\")"
      ],
      "metadata": {},
      "execution_count": null
    },
    {
      "cell_type": "markdown",
      "source": [
        "To read a CSV file into a DataFrame, we use the `CSV.read` function."
      ],
      "metadata": {}
    },
    {
      "outputs": [],
      "cell_type": "code",
      "source": [
        "using CSV\ncsv_df = CSV.read(\"data/StarWars.csv\")"
      ],
      "metadata": {},
      "execution_count": null
    },
    {
      "cell_type": "markdown",
      "source": [
        "## Other Delimited Files\nWe can also use the CSV.jl package to read any other delimited text file format. \nBy default, CSV.File will try to detect a file's delimiter from the first 10 lines of the file.\nCandidate delimiters include `','`, `'\\t'`, `' '`, `'|'`, `';'`, and `':'`. If it can't auto-detect the delimiter, it will assume `','`.\nLet's take the example of space separated data."
      ],
      "metadata": {}
    },
    {
      "outputs": [],
      "cell_type": "code",
      "source": [
        "ss_df = CSV.read(\"data/Cereal.txt\")"
      ],
      "metadata": {},
      "execution_count": null
    },
    {
      "cell_type": "markdown",
      "source": [
        "We can also specify the delimiter by passing the `delim` arguement."
      ],
      "metadata": {}
    },
    {
      "outputs": [],
      "cell_type": "code",
      "source": [
        "delim_df = CSV.read(\"data/Soccer.txt\", delim = \"::\")"
      ],
      "metadata": {},
      "execution_count": null
    },
    {
      "cell_type": "markdown",
      "source": [
        "Note that by default, are read-only. If we wish to make changes to the data read, we pass the `copycols = true` arguement in the function call."
      ],
      "metadata": {}
    },
    {
      "outputs": [],
      "cell_type": "code",
      "source": [
        "ss_df = CSV.read(\"data/Cereal.txt\", copycols = true)"
      ],
      "metadata": {},
      "execution_count": null
    },
    {
      "cell_type": "markdown",
      "source": [
        "# Working with DataFrames\nNow that we have read the required data into a DataFrame, let us look at some basic operations we can perform on it."
      ],
      "metadata": {}
    },
    {
      "cell_type": "markdown",
      "source": [
        "## Querying Basic Information\nThe `size` function gets us the dimensions of the DataFrame."
      ],
      "metadata": {}
    },
    {
      "outputs": [],
      "cell_type": "code",
      "source": [
        "size(ss_df)"
      ],
      "metadata": {},
      "execution_count": null
    },
    {
      "cell_type": "markdown",
      "source": [
        "We can also us the `nrow` and `ncol` functions to get the number of rows and columns respectively."
      ],
      "metadata": {}
    },
    {
      "outputs": [],
      "cell_type": "code",
      "source": [
        "nrow(ss_df), ncol(ss_df)"
      ],
      "metadata": {},
      "execution_count": null
    },
    {
      "cell_type": "markdown",
      "source": [
        "The `describe` function gives basic summary statistics of data in a DataFrame."
      ],
      "metadata": {}
    },
    {
      "outputs": [],
      "cell_type": "code",
      "source": [
        "describe(ss_df)"
      ],
      "metadata": {},
      "execution_count": null
    },
    {
      "cell_type": "markdown",
      "source": [
        "Names of every column can be obtained by the `names` function."
      ],
      "metadata": {}
    },
    {
      "outputs": [],
      "cell_type": "code",
      "source": [
        "names(ss_df)"
      ],
      "metadata": {},
      "execution_count": null
    },
    {
      "cell_type": "markdown",
      "source": [
        "Correspong data types are obtained using the `eltypes` function."
      ],
      "metadata": {}
    },
    {
      "outputs": [],
      "cell_type": "code",
      "source": [
        "eltypes(ss_df)"
      ],
      "metadata": {},
      "execution_count": null
    },
    {
      "cell_type": "markdown",
      "source": [
        "## Accessing the Data\nSimilar to regular arrays, we use numerical indexing to access elements of a DataFrame."
      ],
      "metadata": {}
    },
    {
      "outputs": [],
      "cell_type": "code",
      "source": [
        "csv_df[1,1]"
      ],
      "metadata": {},
      "execution_count": null
    },
    {
      "cell_type": "markdown",
      "source": [
        "The following are different ways to access a column."
      ],
      "metadata": {}
    },
    {
      "outputs": [],
      "cell_type": "code",
      "source": [
        "csv_df[1]"
      ],
      "metadata": {},
      "execution_count": null
    },
    {
      "cell_type": "markdown",
      "source": [
        ""
      ],
      "metadata": {}
    },
    {
      "outputs": [],
      "cell_type": "code",
      "source": [
        "csv_df[:Name]"
      ],
      "metadata": {},
      "execution_count": null
    },
    {
      "cell_type": "markdown",
      "source": [
        ""
      ],
      "metadata": {}
    },
    {
      "outputs": [],
      "cell_type": "code",
      "source": [
        "csv_df.Name"
      ],
      "metadata": {},
      "execution_count": null
    },
    {
      "cell_type": "markdown",
      "source": [
        ""
      ],
      "metadata": {}
    },
    {
      "outputs": [],
      "cell_type": "code",
      "source": [
        "csv_df[:, 1] # note that this creates a copy"
      ],
      "metadata": {},
      "execution_count": null
    },
    {
      "cell_type": "markdown",
      "source": [
        "The following are different ways to access a row."
      ],
      "metadata": {}
    },
    {
      "outputs": [],
      "cell_type": "code",
      "source": [
        "csv_df[1:1, :]"
      ],
      "metadata": {},
      "execution_count": null
    },
    {
      "cell_type": "markdown",
      "source": [
        ""
      ],
      "metadata": {}
    },
    {
      "outputs": [],
      "cell_type": "code",
      "source": [
        "csv_df[1, :] # this produces a DataFrameRow"
      ],
      "metadata": {},
      "execution_count": null
    },
    {
      "cell_type": "markdown",
      "source": [
        "We can change the values just as we normally assign values."
      ],
      "metadata": {}
    },
    {
      "cell_type": "markdown",
      "source": [
        "Assign a range to scalar."
      ],
      "metadata": {}
    },
    {
      "outputs": [],
      "cell_type": "code",
      "source": [
        "excel_df[1:3, 5] = 1"
      ],
      "metadata": {},
      "execution_count": null
    },
    {
      "cell_type": "markdown",
      "source": [
        "Vector to equal length vector."
      ],
      "metadata": {}
    },
    {
      "outputs": [],
      "cell_type": "code",
      "source": [
        "excel_df[4:6, 5] = [4, 5, 6]"
      ],
      "metadata": {},
      "execution_count": null
    },
    {
      "cell_type": "markdown",
      "source": [
        "Subset of the DataFrame to another data frame of matching size."
      ],
      "metadata": {}
    },
    {
      "outputs": [],
      "cell_type": "code",
      "source": [
        "excel_df[1:2, 6:7] = DataFrame([-2 -2; -2 -2])"
      ],
      "metadata": {},
      "execution_count": null
    },
    {
      "cell_type": "markdown",
      "source": [
        ""
      ],
      "metadata": {}
    },
    {
      "outputs": [],
      "cell_type": "code",
      "source": [
        "excel_df"
      ],
      "metadata": {},
      "execution_count": null
    },
    {
      "cell_type": "markdown",
      "source": [
        "There are a lot more things which can be done with a DataFrame. \nSee the [docs](https://juliadata.github.io/DataFrames.jl/stable/) for more information."
      ],
      "metadata": {}
    },
    {
      "cell_type": "markdown",
      "source": [
        "# A Complete Modelling Example - Passport Problem"
      ],
      "metadata": {}
    },
    {
      "cell_type": "markdown",
      "source": [
        "Let's now apply what we have learnt to solve a real modelling problem."
      ],
      "metadata": {}
    },
    {
      "cell_type": "markdown",
      "source": [
        "The [Passport Index Dataset](https://github.com/ilyankou/passport-index-dataset) \nlists travel visa requirements for 199 countries, in .csv format.\nOur task is to find out the minimum number of passports required to visit all countries."
      ],
      "metadata": {}
    },
    {
      "cell_type": "markdown",
      "source": [
        "In this dataset, the first column represents a passport (=from) and each remaining column represents a foreign country (=to). \nThe values in each cell are as follows:\n* 3 = visa-free travel\n* 2 = eTA is required\n* 1 = visa can be obtained on arrival\n* 0 = visa is required\n* -1 is for all instances where passport and destination are the same"
      ],
      "metadata": {}
    },
    {
      "cell_type": "markdown",
      "source": [
        "Our task is to find out the minimum number of passports needed to visit every country without requiring a visa.\nThus, the values we are interested in are -1 and 3. Let us modify the data in the following manner -"
      ],
      "metadata": {}
    },
    {
      "outputs": [],
      "cell_type": "code",
      "source": [
        "passportdata = CSV.read(\"data/passport-index-matrix.csv\", copycols = true)\n\nfor i in 1:nrow(passportdata)\n    for j in 2:ncol(passportdata)\n        if passportdata[i,j] == -1 || passportdata[i,j] == 3\n            passportdata[i,j] = 1\n        else\n            passportdata[i,j] = 0\n        end\n    end\nend"
      ],
      "metadata": {},
      "execution_count": null
    },
    {
      "cell_type": "markdown",
      "source": [
        "The values in the cells now represent:\n* 1 = no visa required for travel\n* 0 = visa required for travel"
      ],
      "metadata": {}
    },
    {
      "cell_type": "markdown",
      "source": [
        "Let us assossciate each passport with a decision variable $pass_{cntr}$ for each country. \nWe want to minize the sum $\\sum pass_{cntr}$ over all countries."
      ],
      "metadata": {}
    },
    {
      "cell_type": "markdown",
      "source": [
        "Since we wish to visit all the countries, for every country, \nwe should own atleast one passport that lets us travel to that country visa free. \nFor one destination, this can be mathematically represented as $\\sum_{cntr \\in world} passportdata_{cntr,dest} \\cdot pass_{cntr} \\geq 1$."
      ],
      "metadata": {}
    },
    {
      "cell_type": "markdown",
      "source": [
        "Thus, we can represent this problem using the following model:"
      ],
      "metadata": {}
    },
    {
      "cell_type": "markdown",
      "source": [
        "$$\n\\begin{align*}\n\\min && \\sum_{cntr \\in World} pass_{cntr} \\\\\ns.t. && \\sum_{cntr \\in World} passportdata_{cntr,dest} \\cdot pass_{cntr} \\geq 1 && \\forall dest \\in World \\\\\n&& pass_{cntr} \\in \\{0,1\\} && \\forall cntr \\in World\n\\end{align*}\n$$"
      ],
      "metadata": {}
    },
    {
      "cell_type": "markdown",
      "source": [
        "We'll now solve the problem using JuMP."
      ],
      "metadata": {}
    },
    {
      "outputs": [],
      "cell_type": "code",
      "source": [
        "using JuMP, GLPK\n\n# Finding number of countries\nn = ncol(passportdata) - 1 # Subtract 1 for column representing country of passport\n\nmodel = Model(with_optimizer(GLPK.Optimizer))\n@variable(model, pass[1:n], Bin)\n@constraint(model, [j = 2:n], sum(passportdata[i,j] * pass[i] for i in 1:n) >= 1)\n@objective(model, Min, sum(pass))\noptimize!(model)\n\nprintln(\"Minimum number of passports needed: \", objective_value(model))\n\ncountryindex = findall(value.(pass) .== 1 )\n\nprint(\"Countries: \")\nfor i in countryindex\n    print(names(passportdata)[i+1], \" \")\nend"
      ],
      "metadata": {},
      "execution_count": null
    },
    {
      "cell_type": "markdown",
      "source": [
        ""
      ],
      "metadata": {}
    }
  ],
  "nbformat_minor": 2,
  "metadata": {
    "language_info": {
      "file_extension": ".jl",
      "mimetype": "application/julia",
      "name": "julia",
      "version": "1.0.3"
    },
    "kernelspec": {
      "name": "julia-1.0",
      "display_name": "Julia 1.0.3",
      "language": "julia"
    }
  },
  "nbformat": 4
}
