{
 "cells": [
  {
   "cell_type": "markdown",
   "metadata": {},
   "source": [
    "# Geometric Problems"
   ]
  },
  {
   "cell_type": "markdown",
   "metadata": {},
   "source": [
    "**Originally Contributed by**: Arpit Bhatia"
   ]
  },
  {
   "cell_type": "markdown",
   "metadata": {},
   "source": [
    "These problems in this tutorial are drawn from Chapter 8 of the book \n",
    "Convex Optimization by Boyd and Vandenberghe[[1]](#c1)"
   ]
  },
  {
   "cell_type": "code",
   "execution_count": 1,
   "metadata": {},
   "outputs": [],
   "source": [
    "using JuMP\n",
    "using Ipopt"
   ]
  },
  {
   "cell_type": "markdown",
   "metadata": {},
   "source": [
    "# Euclidean Projection on a Hyperplane\n",
    "For a given point $x_{0}$ and a set $C$, we refer to any point $z \\in C$ \n",
    "which is closest to $x_{0}$ as a projection of $x_{0}$ on $C$. \n",
    "The projection of a point $x_{0}$ on a hyperplane $C = \\{x | a' \\cdot x = b\\}$ is given by"
   ]
  },
  {
   "cell_type": "markdown",
   "metadata": {},
   "source": [
    "$$\n",
    "\\begin{align*}\n",
    "\\min && ||x - x_{0}|| \\\\\n",
    "s.t. && a' \\cdot x = b \n",
    "\\end{align*}\n",
    "$$"
   ]
  },
  {
   "cell_type": "code",
   "execution_count": 2,
   "metadata": {},
   "outputs": [
    {
     "name": "stdout",
     "output_type": "stream",
     "text": [
      "\n",
      "******************************************************************************\n",
      "This program contains Ipopt, a library for large-scale nonlinear optimization.\n",
      " Ipopt is released as open source code under the Eclipse Public License (EPL).\n",
      "         For more information visit http://projects.coin-or.org/Ipopt\n",
      "******************************************************************************\n",
      "\n",
      "objective_value(projection) = 1.8185405019695327\n",
      "value.(x0) = [0.60413, -0.212535, 0.769988, -0.0308783, 0.415116, -0.454344, 0.313527, 0.104598, 0.30307, 0.151746]\n"
     ]
    }
   ],
   "source": [
    "x = rand(10)\n",
    "a = rand(10)\n",
    "b = rand()\n",
    "\n",
    "projection = Model(with_optimizer(Ipopt.Optimizer, print_level=0))\n",
    "@variable(projection, x0[1:10])\n",
    "@objective(projection, Min, sum((x - x0) .* (x - x0))) # We minimize the square of the distance here\n",
    "@constraint(projection, x0' * a == b)                  # Point must lie on the hyperplane\n",
    "\n",
    "optimize!(projection)\n",
    "@show objective_value(projection);\n",
    "@show value.(x0);"
   ]
  },
  {
   "cell_type": "markdown",
   "metadata": {},
   "source": [
    "# Euclidean Distance Between Polyhedra\n",
    "Given two polyhedra $C = \\{x | A_{1} \\cdot x \\leq b1\\}$ and $D = \\{x | A_{2} \\cdot x \\leq b_{2}\\}$, \n",
    "the distance between them is the optimal value of the problem:"
   ]
  },
  {
   "cell_type": "markdown",
   "metadata": {},
   "source": [
    "$$\n",
    "\\begin{align*}\n",
    "\\min && ||x - y|| \\\\\n",
    "s.t. && A_{1} \\cdot x \\leq b_{1} \\\\\n",
    "&& A_{2} \\cdot y \\leq b_{2} \n",
    "\\end{align*}\n",
    "$$"
   ]
  },
  {
   "cell_type": "code",
   "execution_count": 3,
   "metadata": {},
   "outputs": [
    {
     "name": "stdout",
     "output_type": "stream",
     "text": [
      "objective_value(polyhedra_distance) = -1.734723475976807e-18\n"
     ]
    }
   ],
   "source": [
    "A_1 = rand(10,10)\n",
    "A_2 = rand(10,10)\n",
    "b_1 = rand(10)\n",
    "b_2 = rand(10)\n",
    "\n",
    "polyhedra_distance = Model(with_optimizer(Ipopt.Optimizer, print_level=0))\n",
    "@variable(polyhedra_distance, x[1:10])                       # Point closest on the first polyhedron\n",
    "@variable(polyhedra_distance, y[1:10])                       # Point closest on the second polyhedron\n",
    "@objective(polyhedra_distance, Min, sum((x - y) .* (x - y))) # We minimize the square of the distance here as above\n",
    "@constraint(polyhedra_distance, A_1 * x .<= b_1)             # Point x must lie on the first polyhedron\n",
    "@constraint(polyhedra_distance, A_2 * y .<= b_2)             # Point y must lie on the second polyhedron\n",
    "\n",
    "optimize!(polyhedra_distance)\n",
    "@show objective_value(polyhedra_distance);"
   ]
  },
  {
   "cell_type": "markdown",
   "metadata": {},
   "source": [
    "# Linear Placement Problem\n",
    "We have $N$ points in $\\mathbb{R}^2$, and a list of pairs of points that must be connected by links. \n",
    "The positions of some of the $N$ points are fixed; our task is to determine the positions of the remaining points, \n",
    "i.e., to place the remaining points. The objective is to place the points so that the distance between the links is minimized, \n",
    "i.e. our objective is:"
   ]
  },
  {
   "cell_type": "markdown",
   "metadata": {},
   "source": [
    "$$\n",
    "\\begin{align*}\n",
    "\\min && \\sum_{(i,j) \\in A}||p_{i} - p_{j}|| \n",
    "\\end{align*}\n",
    "$$"
   ]
  },
  {
   "cell_type": "code",
   "execution_count": 4,
   "metadata": {},
   "outputs": [
    {
     "name": "stdout",
     "output_type": "stream",
     "text": [
      "value.(p) = [0.44791 0.0468982; -0.0319353 -0.670614; 0.404336 -0.451308; -0.394295 -0.132825; 0.025327 0.412421; -0.00165206 -0.439548; 1.0 1.0; 1.0 -1.0; -1.0 -1.0; -1.0 1.0; 1.0 -0.5; -1.0 -0.2; -0.2 -1.0; 0.1 1.0]\n",
      "objective_value(placement) = 20.44474039109911\n"
     ]
    }
   ],
   "source": [
    "fixed = [ 1   1  -1 -1    1   -1  -0.2  0.1;         # coordinates of fixed points\n",
    "          1  -1  -1  1 -0.5 -0.2    -1    1]\n",
    "\n",
    "M = size(fixed,2)                                    # number of fixed points\n",
    "N = 6                                                # number of free points\n",
    "\n",
    "A = [ 1  0  0 -1  0  0    0  0  0  0  0  0  0  0;    # Matrix on links\n",
    "      1  0 -1  0  0  0    0  0  0  0  0  0  0  0;\n",
    "      1  0  0  0 -1  0    0  0  0  0  0  0  0  0;\n",
    "      1  0  0  0  0  0   -1  0  0  0  0  0  0  0;\n",
    "      1  0  0  0  0  0    0 -1  0  0  0  0  0  0;\n",
    "      1  0  0  0  0  0    0  0  0  0 -1  0  0  0;\n",
    "      1  0  0  0  0  0    0  0  0  0  0  0  0 -1;\n",
    "      0  1 -1  0  0  0    0  0  0  0  0  0  0  0;\n",
    "      0  1  0 -1  0  0    0  0  0  0  0  0  0  0;\n",
    "      0  1  0  0  0 -1    0  0  0  0  0  0  0  0;\n",
    "      0  1  0  0  0  0    0 -1  0  0  0  0  0  0;\n",
    "      0  1  0  0  0  0    0  0 -1  0  0  0  0  0;\n",
    "      0  1  0  0  0  0    0  0  0  0  0  0 -1  0;\n",
    "      0  0  1 -1  0  0    0  0  0  0  0  0  0  0;\n",
    "      0  0  1  0  0  0    0 -1  0  0  0  0  0  0;\n",
    "      0  0  1  0  0  0    0  0  0  0 -1  0  0  0;\n",
    "      0  0  0  1 -1  0    0  0  0  0  0  0  0  0;\n",
    "      0  0  0  1  0  0    0  0 -1  0  0  0  0  0;\n",
    "      0  0  0  1  0  0    0  0  0 -1  0  0  0  0;\n",
    "      0  0  0  1  0  0    0  0  0  0  0 -1  0  0;\n",
    "      0  0  0  1  0  0    0  0  0  0  0 -1  0  0;        \n",
    "      0  0  0  0  1 -1    0  0  0  0  0  0  0  0;\n",
    "      0  0  0  0  1  0   -1  0  0  0  0  0  0  0;\n",
    "      0  0  0  0  1  0    0  0  0 -1  0  0  0  0;\n",
    "      0  0  0  0  1  0    0  0  0  0  0  0  0 -1;\n",
    "      0  0  0  0  0  1    0  0 -1  0  0  0  0  0;\n",
    "      0  0  0  0  0  1    0  0  0  0 -1  0  0  0;]\n",
    "\n",
    "placement = Model(with_optimizer(Ipopt.Optimizer, print_level=0))\n",
    "@variable(placement, p[1:M + N,1:2])                     # A variable array for the coordinates of each point\n",
    "@constraint(placement, p[N + 1:N + M,:] .== fixed')      # We had a constraint for the fixed points\n",
    "dist = A * p                                         # Matrix of differences between coordinates of 2 points with a link\n",
    "@objective(placement, Min, sum(dist .* dist))            # We minimize the sum of the square of the distances\n",
    "\n",
    "optimize!(placement)\n",
    "@show value.(p);\n",
    "@show objective_value(placement);"
   ]
  },
  {
   "cell_type": "markdown",
   "metadata": {},
   "source": [
    "# Floor Planning\n",
    "A floor planning problem consists of rectangles or boxes aligned with the axes which must be placed, \n",
    "within some limits such that they do not overlap. The objective is usually to minimize the size \n",
    "(e.g., area, volume, perimeter) of the bounding box, which is the smallest box that contains the boxes to be configured and placed.\n",
    "We model this problem as follows:"
   ]
  },
  {
   "cell_type": "markdown",
   "metadata": {},
   "source": [
    "We have N boxes $B_{1}, . . . , B_{N}$ that are to be configured and placed in a rectangle with width $W$ and height $H$, \n",
    "and lower left corner at the position $(0, 0)$. The geometry and position of the $i$th box is specified by \n",
    "its width $w_{i}$ and height $h_{i}$, and the coordinates $(x_{i}, y_{i})$ of its lower left corner."
   ]
  },
  {
   "cell_type": "markdown",
   "metadata": {},
   "source": [
    "The variables in the problem are $x_{i}, y_{i}, w_{i}, h_{i}$ for $i=1, \\ldots, \n",
    "N,$ and the width $W$ and height $H$ of the bounding rectangle. In all floor planning problems, \n",
    "we require that the cells lie inside the bounding rectangle, $i . e .$"
   ]
  },
  {
   "cell_type": "markdown",
   "metadata": {},
   "source": [
    "$$\n",
    "x_{i} \\geq 0, \\quad y_{i} \\geq 0, \\quad x_{i}+w_{i} \\leq W, \\quad y_{i}+h_{i} \\leq H, \\quad i=1, \\ldots, N\n",
    "$$"
   ]
  },
  {
   "cell_type": "markdown",
   "metadata": {},
   "source": [
    "We also require that the cells do not overlap, except possibly on their boundaries, i.e."
   ]
  },
  {
   "cell_type": "markdown",
   "metadata": {},
   "source": [
    "$$\n",
    "x_{i}+w_{i} \\leq x_{j} \\quad \\text{or} \\quad x_{j}+w_{j} \\leq x_{i} \\quad \\text{or} \\quad y_{i}+h_{j} \\leq y_{j} \\quad \\text{or} \\quad y_{j}+h_{i} \\leq y_{i}\n",
    "$$"
   ]
  },
  {
   "cell_type": "code",
   "execution_count": 5,
   "metadata": {},
   "outputs": [
    {
     "name": "stdout",
     "output_type": "stream",
     "text": [
      "objective_value(floor_planning) = 51.93446154361733\n",
      "objective_value(floor_planning) = 51.1562218755639\n",
      "objective_value(floor_planning) = 52.669203332919835\n",
      "objective_value(floor_planning) = 52.54574619621182\n"
     ]
    }
   ],
   "source": [
    "n = 5;\n",
    "\n",
    "Amin = [                                        # We'll try this problem with 4 times with different minimum area constraints\n",
    "100 100 100 100 100;\n",
    " 20  50  80 150 200;\n",
    "180  80  80  80  80;\n",
    " 20 150  20 200 110]\n",
    "\n",
    "r = 1\n",
    "\n",
    "for i = 1:4\n",
    "    A = Amin[i,:]\n",
    "\n",
    "    floor_planning = Model(with_optimizer(Ipopt.Optimizer, print_level=0))\n",
    "\n",
    "    @variable(floor_planning, x[1:n] >= r)\n",
    "    @variable(floor_planning, y[1:n] >= r)\n",
    "    @variable(floor_planning, w[1:n] >= 0)\n",
    "    @variable(floor_planning, h[1:n] >= 0)\n",
    "    @variable(floor_planning, W)\n",
    "    @variable(floor_planning, H)\n",
    "\n",
    "    @constraint(floor_planning, x[5] + w[5] + r <= W)    # No rectangles at the right of Rectangle 5\n",
    "    @constraint(floor_planning, x[1] + w[1] + r <= x[3]) # Rectangle 1 is at the left of Rectangle 3\n",
    "    @constraint(floor_planning, x[2] + w[2] + r <= x[3]) # Rectangle 2 is at the left of Rectangle 3\n",
    "    @constraint(floor_planning, x[3] + w[3] + r <= x[5]) # Rectangle 3 is at the left of Rectangle 5\n",
    "    @constraint(floor_planning, x[4] + w[4] + r <= x[5]) # Rectangle 4 is at the left of Rectangle 5\n",
    "    @constraint(floor_planning, y[4] + h[4] + r <= H)    # No rectangles on top of Rectangle 4\n",
    "    @constraint(floor_planning, y[5] + h[5] + r <= H)    # No rectangles on top of Rectangle 5\n",
    "    @constraint(floor_planning, y[2] + h[2] + r <= y[1]) # Rectangle 2 is below Rectangle 1\n",
    "    @constraint(floor_planning, y[1] + h[1] + r <= y[4]) # Rectangle 1 is below Rectangle 4\n",
    "    @constraint(floor_planning, y[3] + h[3] + r <= y[4]) # Rectangle 3 is below Rectangle 4\n",
    "    @constraint(floor_planning, w .<= 5*h)               # Aspect ratio constraint\n",
    "    @constraint(floor_planning, h .<= 5*w)               # Aspect ratio constraint\n",
    "    @constraint(floor_planning, A .<= h .*  w)           # Area constraint\n",
    "\n",
    "    @objective(floor_planning, Min, W + H)\n",
    "\n",
    "    optimize!(floor_planning)\n",
    "    @show objective_value(floor_planning);\n",
    "end"
   ]
  },
  {
   "cell_type": "markdown",
   "metadata": {},
   "source": [
    "### References\n",
    "<a id='c1'></a>\n",
    "1. Boyd, S., & Vandenberghe, L. (2004). Convex Optimization. Cambridge: Cambridge University Press. doi:10.1017/CBO9780511804441"
   ]
  }
 ],
 "metadata": {
  "kernelspec": {
   "display_name": "Julia 1.0.3",
   "language": "julia",
   "name": "julia-1.0"
  },
  "language_info": {
   "file_extension": ".jl",
   "mimetype": "application/julia",
   "name": "julia",
   "version": "1.0.3"
  }
 },
 "nbformat": 4,
 "nbformat_minor": 2
}
