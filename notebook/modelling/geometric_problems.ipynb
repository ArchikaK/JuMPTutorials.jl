{
  "cells": [
    {
      "cell_type": "markdown",
      "source": [
        "# Geometric Problems\n### Arpit Bhatia"
      ],
      "metadata": {}
    },
    {
      "cell_type": "markdown",
      "source": [
        "These problems in this tutorial are drawn from Chapter 8 of the book \n[Convex Optimization by Boyd and Vandenberghe](http://stanford.edu/~boyd/cvxbook/)"
      ],
      "metadata": {}
    },
    {
      "outputs": [],
      "cell_type": "code",
      "source": [
        "using JuMP\nusing Ipopt"
      ],
      "metadata": {},
      "execution_count": null
    },
    {
      "cell_type": "markdown",
      "source": [
        "# Euclidean Projection on a Hyperplane\nFor a given point $x_{0}$ and a set $C$, we refer to any point $z \\in C$ \nwhich is closest to $x_{0}$ as a projection of $x_{0}$ on $C$. \nThe projection of a point $x_{0}$ on a hyperplane $C = \\{x | a' \\cdot x = b\\}$ is given by"
      ],
      "metadata": {}
    },
    {
      "cell_type": "markdown",
      "source": [
        "$$\n\\begin{align*}\n\\min && ||x - x_{0}|| \\\\\ns.t. && a' \\cdot x = b \n\\end{align*}\n$$"
      ],
      "metadata": {}
    },
    {
      "outputs": [],
      "cell_type": "code",
      "source": [
        "x = rand(10)\na = rand(10)\nb = rand()\n\nmodel = Model(with_optimizer(Ipopt.Optimizer, print_level=0))\n@variable(model, x0[1:10])\n@objective(model, Min, sum((x - x0) .* (x - x0))) # We minimize the square of the distance here\n@constraint(model, x0' * a == b)                  # Point must lie on the hyperplane\n\noptimize!(model)\n@show objective_value(model)\n@show value.(x0)"
      ],
      "metadata": {},
      "execution_count": null
    },
    {
      "cell_type": "markdown",
      "source": [
        "# Euclidean Distance Between Polyhedra\nGiven two polyhedra $C = \\{x | A_{1} \\cdot x \\leq b1\\}$ and $D = \\{x | A_{2} \\cdot x \\leq b_{2}\\}$, \nthe distance between them is the optimal value of the problem:"
      ],
      "metadata": {}
    },
    {
      "cell_type": "markdown",
      "source": [
        "$$\n\\begin{align*}\n\\min && ||x - y|| \\\\\ns.t. && A_{1} \\cdot x \\leq b_{1} \\\\\n&& A_{2} \\cdot y \\leq b_{2} \n\\end{align*}\n$$"
      ],
      "metadata": {}
    },
    {
      "outputs": [],
      "cell_type": "code",
      "source": [
        "A_1 = rand(10,10)\nA_2 = rand(10,10)\nb_1 = rand(10)\nb_2 = rand(10)\n\nmodel = Model(with_optimizer(Ipopt.Optimizer, print_level=0))\n@variable(model, x[1:10])                       # Point closest on the first polyhedron\n@variable(model, y[1:10])                       # Point closest on the second polyhedron\n@objective(model, Min, sum((x - y) .* (x - y))) # We minimize the square of the distance here as above\n@constraint(model, A_1 * x .<= b_1)             # Point x must lie on the first polyhedron\n@constraint(model, A_2 * y .<= b_2)             # Point y must lie on the second polyhedron\n\noptimize!(model)\n@show objective_value(model)"
      ],
      "metadata": {},
      "execution_count": null
    },
    {
      "cell_type": "markdown",
      "source": [
        "# Linear Placement Problem\nWe have $N$ points in $\\mathbb{R}^2$, and a list of pairs of points that must be connected by links. \nThe positions of some of the $N$ points are fixed; our task is to determine the positions of the remaining points, \ni.e., to place the remaining points. The objective is to place the points so that the distance between the links is minimized, \ni.e. our objective is:"
      ],
      "metadata": {}
    },
    {
      "cell_type": "markdown",
      "source": [
        "$$\n\\begin{align*}\n\\min && \\sum_{(i,j) \\in A}||x_{i} - x_{j}|| \n\\end{align*}\n$$"
      ],
      "metadata": {}
    },
    {
      "outputs": [],
      "cell_type": "code",
      "source": [
        "fixed = [ 1   1  -1 -1    1   -1  -0.2  0.1;         # coordinates of fixed points\n          1  -1  -1  1 -0.5 -0.2    -1    1]\n\nM = size(fixed,2)                                    # number of fixed points\nN = 6                                                # number of free points\n\nA = [ 1  0  0 -1  0  0    0  0  0  0  0  0  0  0;    # Matrix on links\n      1  0 -1  0  0  0    0  0  0  0  0  0  0  0;\n      1  0  0  0 -1  0    0  0  0  0  0  0  0  0;\n      1  0  0  0  0  0   -1  0  0  0  0  0  0  0;\n      1  0  0  0  0  0    0 -1  0  0  0  0  0  0;\n      1  0  0  0  0  0    0  0  0  0 -1  0  0  0;\n      1  0  0  0  0  0    0  0  0  0  0  0  0 -1;\n      0  1 -1  0  0  0    0  0  0  0  0  0  0  0;\n      0  1  0 -1  0  0    0  0  0  0  0  0  0  0;\n      0  1  0  0  0 -1    0  0  0  0  0  0  0  0;\n      0  1  0  0  0  0    0 -1  0  0  0  0  0  0;\n      0  1  0  0  0  0    0  0 -1  0  0  0  0  0;\n      0  1  0  0  0  0    0  0  0  0  0  0 -1  0;\n      0  0  1 -1  0  0    0  0  0  0  0  0  0  0;\n      0  0  1  0  0  0    0 -1  0  0  0  0  0  0;\n      0  0  1  0  0  0    0  0  0  0 -1  0  0  0;\n      0  0  0  1 -1  0    0  0  0  0  0  0  0  0;\n      0  0  0  1  0  0    0  0 -1  0  0  0  0  0;\n      0  0  0  1  0  0    0  0  0 -1  0  0  0  0;\n      0  0  0  1  0  0    0  0  0  0  0 -1  0  0;\n      0  0  0  1  0  0    0  0  0  0  0 -1  0  0;        \n      0  0  0  0  1 -1    0  0  0  0  0  0  0  0;\n      0  0  0  0  1  0   -1  0  0  0  0  0  0  0;\n      0  0  0  0  1  0    0  0  0 -1  0  0  0  0;\n      0  0  0  0  1  0    0  0  0  0  0  0  0 -1;\n      0  0  0  0  0  1    0  0 -1  0  0  0  0  0;\n      0  0  0  0  0  1    0  0  0  0 -1  0  0  0;]\n\nmodel = Model(with_optimizer(Ipopt.Optimizer, print_level=0))\n@variable(model, x[1:M + N,1:2])                     # A variable array for the coordinates of each point\n@constraint(model, x[N + 1:N + M,:] .== fixed')      # We had a constraint for the fixed points\ndist = A * x                                         # Matrix of differences between coordinates of 2 points with a link\n@objective(model, Min, sum(dist .* dist))            # We minimize the sum of the square of the distances\n\noptimize!(model)\n@show value.(x)\n@show objective_value(model)"
      ],
      "metadata": {},
      "execution_count": null
    },
    {
      "cell_type": "markdown",
      "source": [
        "# Floor Planning\nA floor planning problem consists of rectangles or boxes aligned with the axes which must be placed, \nwithin some limits such that they do not overlap. The objective is usually to minimize the size \n(e.g., area, volume, perimeter) of the bounding box, which is the smallest box that contains the boxes to be configured and placed.\nWe model this problem as follows:"
      ],
      "metadata": {}
    },
    {
      "cell_type": "markdown",
      "source": [
        "We have N boxes $B_{1}, . . . , B_{N}$ that are to be configured and placed in a rectangle with width $W$ and height $H$, \nand lower left corner at the position $(0, 0)$. The geometry and position of the $i$th box is specified by \nits width $w_{i}$ and height $h_{i}$, and the coordinates $(x_{i}, y_{i})$ of its lower left corner."
      ],
      "metadata": {}
    },
    {
      "cell_type": "markdown",
      "source": [
        "The variables in the problem are $x_{i}, y_{i}, w_{i}, h_{i}$ for $i=1, \\ldots, \nN,$ and the width $W$ and height $H$ of the bounding rectangle. In all floor planning problems, \nwe require that the cells lie inside the bounding rectangle, $i . e .$"
      ],
      "metadata": {}
    },
    {
      "cell_type": "markdown",
      "source": [
        "$$\nx_{i} \\geq 0, \\quad y_{i} \\geq 0, \\quad x_{i}+w_{i} \\leq W, \\quad y_{i}+h_{i} \\leq H, \\quad i=1, \\ldots, N\n$$"
      ],
      "metadata": {}
    },
    {
      "cell_type": "markdown",
      "source": [
        "We also require that the cells do not overlap, except possibly on their boundaries, $i . e .$"
      ],
      "metadata": {}
    },
    {
      "cell_type": "markdown",
      "source": [
        "$x_{i}+w_{i} \\leq x_{j},$ or $x_{j}+w_{j} \\leq x_{i},$ or $y_{i}+h_{j} \\leq y_{j},$ or $y_{j}+h_{i} \\leq y_{i}$"
      ],
      "metadata": {}
    },
    {
      "outputs": [],
      "cell_type": "code",
      "source": [
        "n = 5;\n\nAmin = [                                        # We'll try this problem with 4 times with different minimum area constraints\n100 100 100 100 100;\n 20  50  80 150 200;\n180  80  80  80  80;\n 20 150  20 200 110]\n\nr = 1\n\nfor i = 1:4\n    A = Amin[i,:]\n\n    model = Model(with_optimizer(Ipopt.Optimizer, print_level=0))\n\n    @variable(model, x[1:n] >= r)\n    @variable(model, y[1:n] >= r)\n    @variable(model, w[1:n] >= 0)\n    @variable(model, h[1:n] >= 0)\n    @variable(model, W)\n    @variable(model, H)\n\n    @constraint(model, x[5] + w[5] + r <= W)    # No rectangles at the right of Rectangle 5\n    @constraint(model, x[1] + w[1] + r <= x[3]) # Rectangle 1 is at the left of Rectangle 3\n    @constraint(model, x[2] + w[2] + r <= x[3]) # Rectangle 2 is at the left of Rectangle 3\n    @constraint(model, x[3] + w[3] + r <= x[5]) # Rectangle 3 is at the left of Rectangle 5\n    @constraint(model, x[4] + w[4] + r <= x[5]) # Rectangle 4 is at the left of Rectangle 5\n    @constraint(model, y[4] + h[4] + r <= H)    # No rectangles on top of Rectangle 4\n    @constraint(model, y[5] + h[5] + r <= H)    # No rectangles on top of Rectangle 5\n    @constraint(model, y[2] + h[2] + r <= y[1]) # Rectangle 2 is below Rectangle 1\n    @constraint(model, y[1] + h[1] + r <= y[4]) # Rectangle 1 is below Rectangle 4\n    @constraint(model, y[3] + h[3] + r <= y[4]) # Rectangle 3 is below Rectangle 4\n    @constraint(model, w .<= 5*h)               # Aspect ratio constraint\n    @constraint(model, h .<= 5*w)               # Aspect ratio constraint\n    @constraint(model, A .<= h .*  w)           # Area constraint\n\n    @objective(model, Min, W + H)\n\n    optimize!(model)\n    @show objective_value(model)\nend"
      ],
      "metadata": {},
      "execution_count": null
    }
  ],
  "nbformat_minor": 2,
  "metadata": {
    "language_info": {
      "file_extension": ".jl",
      "mimetype": "application/julia",
      "name": "julia",
      "version": "1.0.3"
    },
    "kernelspec": {
      "name": "julia-1.0",
      "display_name": "Julia 1.0.3",
      "language": "julia"
    }
  },
  "nbformat": 4
}
