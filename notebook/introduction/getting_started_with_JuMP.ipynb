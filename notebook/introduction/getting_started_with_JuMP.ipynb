{
 "cells": [
  {
   "cell_type": "markdown",
   "metadata": {},
   "source": [
    "# Getting Started with JuMP"
   ]
  },
  {
   "cell_type": "markdown",
   "metadata": {},
   "source": [
    "**Originally Contributed by**: Arpit Bhatia"
   ]
  },
  {
   "cell_type": "markdown",
   "metadata": {},
   "source": [
    "This tutorial is aimed at providing a quick introduction to writing JuMP code. It assumes familiar with basic optimization and \n",
    "the notion of an [AML](https://en.wikipedia.org/wiki/Algebraic_modeling_language)."
   ]
  },
  {
   "cell_type": "markdown",
   "metadata": {},
   "source": [
    "# What is JuMP?\n",
    "JuMP (\"Julia for Mathematical Programming\") is an open-source modeling language that is embedded in Julia. It allows users to \n",
    "users formulate various classes of optimization problems (linear, mixed-integer, quadratic, conic quadratic, semidefinite, \n",
    "and nonlinear) with easy-to-read code. These problems can then be solved using state-of-the-art open-source and commercial solvers.\n",
    "JuMP also makes advanced optimization techniques easily accessible from a high-level language."
   ]
  },
  {
   "cell_type": "markdown",
   "metadata": {},
   "source": [
    "# Installing JuMP\n",
    "JuMP is a package for Julia. From Julia, JuMP is installed by using the built-in package manager."
   ]
  },
  {
   "cell_type": "code",
   "execution_count": 1,
   "metadata": {},
   "outputs": [
    {
     "name": "stdout",
     "output_type": "stream",
     "text": [
      "\u001b[32m\u001b[1m  Updating\u001b[22m\u001b[39m registry at `~/.julia/registries/General`\n",
      "\u001b[32m\u001b[1m  Updating\u001b[22m\u001b[39m git-repo `https://github.com/JuliaRegistries/General.git`\n",
      "\u001b[?25l\u001b[2K\u001b[?25h\u001b[32m\u001b[1m Resolving\u001b[22m\u001b[39m package versions...\n",
      "\u001b[32m\u001b[1m  Updating\u001b[22m\u001b[39m `~/Desktop/Untitled Folder/JuMPTutorials.jl/Project.toml`\n",
      "\u001b[90m [no changes]\u001b[39m\n",
      "\u001b[32m\u001b[1m  Updating\u001b[22m\u001b[39m `~/Desktop/Untitled Folder/JuMPTutorials.jl/Manifest.toml`\n",
      "\u001b[90m [no changes]\u001b[39m\n"
     ]
    }
   ],
   "source": [
    "import Pkg\n",
    "Pkg.add(\"JuMP\")"
   ]
  },
  {
   "cell_type": "markdown",
   "metadata": {},
   "source": [
    "# A Complete Example\n",
    "Let's try to solve the following linear programming problem by using JuMP and GLPK (a linear and mixed integer programming \n",
    "solver). We will first look at the complete code to solve the problem and then go through it step by step."
   ]
  },
  {
   "cell_type": "markdown",
   "metadata": {},
   "source": [
    "$$\n",
    "\\begin{align*}\n",
    "\\min && 12x + 20y \\\\\n",
    "\\text{subject to} && 6x + 8y \\geq 100 \\\\ \n",
    "&& 7x + 12y \\geq 120 \\\\ \n",
    "&& x \\geq 0 \\\\ \n",
    "&& y \\geq 0 \\\\ \n",
    "\\end{align*}\n",
    "$$"
   ]
  },
  {
   "cell_type": "code",
   "execution_count": 2,
   "metadata": {},
   "outputs": [
    {
     "name": "stdout",
     "output_type": "stream",
     "text": [
      "value(x) = 14.999999999999993\n",
      "value(y) = 1.2500000000000047\n",
      "objective_value(model) = 205.0\n"
     ]
    },
    {
     "data": {
      "text/plain": [
       "205.0"
      ]
     },
     "execution_count": 2,
     "metadata": {},
     "output_type": "execute_result"
    }
   ],
   "source": [
    "using JuMP\n",
    "using GLPK\n",
    "\n",
    "model = Model(with_optimizer(GLPK.Optimizer))\n",
    "@variable(model, x >= 0)\n",
    "@variable(model, y >= 0)\n",
    "@constraint(model, 6x + 8y >= 100)\n",
    "@constraint(model, 7x + 12y >= 120)\n",
    "@objective(model, Min, 12x + 20y)\n",
    "\n",
    "optimize!(model)\n",
    "\n",
    "@show value(x)\n",
    "@show value(y)           \n",
    "@show objective_value(model)"
   ]
  },
  {
   "cell_type": "markdown",
   "metadata": {},
   "source": [
    "# Step by Step JuMP Code\n",
    "Once JuMP is installed, to use JuMP in your programs, we just need to write-"
   ]
  },
  {
   "cell_type": "code",
   "execution_count": 3,
   "metadata": {},
   "outputs": [],
   "source": [
    "using JuMP"
   ]
  },
  {
   "cell_type": "markdown",
   "metadata": {},
   "source": [
    "We also need to include a Julia package which provides an appropriate solver. We want to use GLPK.Optimizer here which is \n",
    "provided by the GLPK.jl package."
   ]
  },
  {
   "cell_type": "code",
   "execution_count": 4,
   "metadata": {},
   "outputs": [],
   "source": [
    "using GLPK"
   ]
  },
  {
   "cell_type": "markdown",
   "metadata": {},
   "source": [
    "A model object is a container for variables, constraints, solver options, etc. Models are created with the Model() function. \n",
    "The `with_optimizer` syntax is used to specify the optimizer to be used which is GLPK in this case."
   ]
  },
  {
   "cell_type": "code",
   "execution_count": 5,
   "metadata": {},
   "outputs": [
    {
     "data": {
      "text/latex": [
       "$$ \\begin{alignat*}{1}\\text{feasibility}\\\\\n",
       "\\text{Subject to} \\quad\\end{alignat*}\n",
       " $$"
      ],
      "text/plain": [
       "A JuMP Model\n",
       "Feasibility problem with:\n",
       "Variables: 0\n",
       "Model mode: AUTOMATIC\n",
       "CachingOptimizer state: EMPTY_OPTIMIZER\n",
       "Solver name: GLPK"
      ]
     },
     "execution_count": 5,
     "metadata": {},
     "output_type": "execute_result"
    }
   ],
   "source": [
    "model = Model(with_optimizer(GLPK.Optimizer))"
   ]
  },
  {
   "cell_type": "markdown",
   "metadata": {},
   "source": [
    "A variable is modelled using `@variable(name of the model object, variable name and bound, variable type)`. The bound can be a\n",
    "lower bound, an upper bound or both. If no variable type is defined, then it is treated as real."
   ]
  },
  {
   "cell_type": "code",
   "execution_count": 6,
   "metadata": {},
   "outputs": [
    {
     "data": {
      "text/latex": [
       "$$ y $$"
      ],
      "text/plain": [
       "y"
      ]
     },
     "execution_count": 6,
     "metadata": {},
     "output_type": "execute_result"
    }
   ],
   "source": [
    "@variable(model, x >= 0)\n",
    "@variable(model, y >= 0)"
   ]
  },
  {
   "cell_type": "markdown",
   "metadata": {},
   "source": [
    "A constraint is modelled using `@constraint(name of the model object, constraint)`."
   ]
  },
  {
   "cell_type": "code",
   "execution_count": 7,
   "metadata": {},
   "outputs": [
    {
     "data": {
      "text/latex": [
       "$ 7 x + 12 y \\geq 120.0 $"
      ],
      "text/plain": [
       "7 x + 12 y ≥ 120.0"
      ]
     },
     "execution_count": 7,
     "metadata": {},
     "output_type": "execute_result"
    }
   ],
   "source": [
    "@constraint(model, 6x + 8y >= 100)\n",
    "@constraint(model, 7x + 12y >= 120)"
   ]
  },
  {
   "cell_type": "markdown",
   "metadata": {},
   "source": [
    "The objective is set in a similar manner using `@objective(name of the model object, Min/Max, function to be optimized)`"
   ]
  },
  {
   "cell_type": "code",
   "execution_count": 8,
   "metadata": {},
   "outputs": [
    {
     "data": {
      "text/latex": [
       "$$ 12 x + 20 y $$"
      ],
      "text/plain": [
       "12 x + 20 y"
      ]
     },
     "execution_count": 8,
     "metadata": {},
     "output_type": "execute_result"
    }
   ],
   "source": [
    "@objective(model, Min, 12x + 20y)"
   ]
  },
  {
   "cell_type": "markdown",
   "metadata": {},
   "source": [
    "To solve the optimization problem, we call the optimize function."
   ]
  },
  {
   "cell_type": "code",
   "execution_count": 9,
   "metadata": {},
   "outputs": [],
   "source": [
    "optimize!(model)"
   ]
  },
  {
   "cell_type": "markdown",
   "metadata": {},
   "source": [
    "Let's now check the value of objective and variables."
   ]
  },
  {
   "cell_type": "code",
   "execution_count": 10,
   "metadata": {},
   "outputs": [
    {
     "name": "stdout",
     "output_type": "stream",
     "text": [
      "value(x) = 14.999999999999993\n",
      "value(y) = 1.2500000000000047\n",
      "objective_value(model) = 205.0\n"
     ]
    }
   ],
   "source": [
    "@show value(x);\n",
    "@show value(y);\n",
    "@show objective_value(model);"
   ]
  }
 ],
 "metadata": {
  "kernelspec": {
   "display_name": "Julia 1.0.3",
   "language": "julia",
   "name": "julia-1.0"
  },
  "language_info": {
   "file_extension": ".jl",
   "mimetype": "application/julia",
   "name": "julia",
   "version": "1.0.3"
  }
 },
 "nbformat": 4,
 "nbformat_minor": 2
}
