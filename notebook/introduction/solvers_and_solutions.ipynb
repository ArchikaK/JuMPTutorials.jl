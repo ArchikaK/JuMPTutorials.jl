{
  "cells": [
    {
      "cell_type": "markdown",
      "source": [
        "# Solvers and Solutions\n### Arpit Bhatia"
      ],
      "metadata": {}
    },
    {
      "cell_type": "markdown",
      "source": [
        "The purpose of this part of the tutorial is to introduce you to solvers and how to use them with JuMP. We'll also learn\nwhat to do with a problem after the solver has finished optimizing it."
      ],
      "metadata": {}
    },
    {
      "cell_type": "markdown",
      "source": [
        "# What is a Solver?\nA solver is a software package that incorporates algorithms for finding solutions to one or more classes of problem. \nFor example, GLPK, which we used in the previous tutorials is a solver for linear programming (LP) and mixed integer \nprogramming (MIP) problems. It incorporates algorithms such as the simplex method, interior-point method etc. JuMP \ncurrently supports a number of open-source and commercial solvers which can be viewed\n[here](http://www.juliaopt.org/JuMP.jl/v0.19.1/installation/#Getting-Solvers-1)."
      ],
      "metadata": {}
    },
    {
      "cell_type": "markdown",
      "source": [
        "# What is MathOptInterface?\nEach mathematical optimization solver API has its own concepts and data structures for representing optimization models \nand obtaining results. However, it is often desirable to represent an instance of an optimization problem at a higher \nlevel so that it is easy to try using different solvers. MathOptInterface (MOI) is an abstraction layer designed to provide \nan interface to mathematical optimization solvers so that users do not need to understand multiple solver-specific \nAPIs. MOI can be used directly, or through a higher-level modeling interface like JuMP."
      ],
      "metadata": {}
    },
    {
      "cell_type": "markdown",
      "source": [
        "# Interacting with solvers\nJuMP models can be created in three different modes: `AUTOMATIC`, `MANUAL` and `DIRECT`. We'll use the following LP to \nillustrate them."
      ],
      "metadata": {}
    },
    {
      "cell_type": "markdown",
      "source": [
        "$$\n\\begin{align}\n&\\max_{x,y}& \\quad x + 2y \\\\\n&\\text{s.t.}&\\quad x + y &\\leq 1 \\\\\n&&0\\leq x, y &\\leq 1\n\\end{align}\n$$"
      ],
      "metadata": {}
    },
    {
      "outputs": [],
      "cell_type": "code",
      "source": [
        "using JuMP \nusing GLPK"
      ],
      "metadata": {},
      "execution_count": null
    },
    {
      "cell_type": "markdown",
      "source": [
        "## `AUTOMATIC` Mode\n### With Optimizer\nThis is the easiest method to use a solver in JuMP. In order to do so, we simply set the solver inside the Model constructor."
      ],
      "metadata": {}
    },
    {
      "outputs": [],
      "cell_type": "code",
      "source": [
        "model_auto = Model(with_optimizer(GLPK.Optimizer))\n@variable(model_auto, 0 <= x <= 1)\n@variable(model_auto, 0 <= y <= 1)\n@constraint(model_auto, x + y <= 1)\n@objective(model_auto, Max, x + 2y)\noptimize!(model_auto)\nobjective_value(model_auto)"
      ],
      "metadata": {},
      "execution_count": null
    },
    {
      "cell_type": "markdown",
      "source": [
        "### No Optimizer (at first)\nIt is also possible to create a JuMP model with no optimizer attached. After the model object is initialized empty \nand all its variables, constraints and objective are set, then we can attach the solver at `optimize!` time."
      ],
      "metadata": {}
    },
    {
      "outputs": [],
      "cell_type": "code",
      "source": [
        "model_auto_no = Model()\n@variable(model_auto_no, 0 <= x <= 1)\n@variable(model_auto_no, 0 <= y <= 1)\n@constraint(model_auto_no, x + y <= 1)\n@objective(model_auto_no, Max, x + 2y)\noptimize!(model_auto_no, with_optimizer(GLPK.Optimizer))\nobjective_value(model_auto_no)"
      ],
      "metadata": {},
      "execution_count": null
    },
    {
      "cell_type": "markdown",
      "source": [
        "Note that we can also enforce the automatic mode by passing `caching_mode = MOIU.AUTOMATIC` in the Model function call.\n## `MANUAL` Mode\nThis mode is similar to the `AUTOMATIC` mode, but there are less protections from the user getting errors from the solver \nAPI. On the other side, nothing happens silently, which might give the user more control. It requires attaching the solver \nbefore the solve step using the `MOIU.attach_optimizer()` function."
      ],
      "metadata": {}
    },
    {
      "outputs": [],
      "cell_type": "code",
      "source": [
        "model_man = Model(with_optimizer(GLPK.Optimizer),caching_mode = MOIU.MANUAL)\n@variable(model_man, 0 <= x <= 1)\n@variable(model_man, 0 <= y <= 1)\n@constraint(model_man, x + y <= 1)\n@objective(model_man, Max, x + 2y)\nMOIU.attach_optimizer(model_man)\noptimize!(model_man)\nobjective_value(model_man)"
      ],
      "metadata": {},
      "execution_count": null
    },
    {
      "cell_type": "markdown",
      "source": [
        "## `DIRECT` Mode\nSome solvers are able to handle the problem data directly. This is common for LP/MIP solver but not very common for \nopen-source conic solvers. In this case we do not set a optimizer, we set a backend which is more generic and is able\nto hold data and not only solving a model."
      ],
      "metadata": {}
    },
    {
      "outputs": [],
      "cell_type": "code",
      "source": [
        "model_dir = direct_model(GLPK.Optimizer())\n@variable(model_dir, 0 <= x <= 1)\n@variable(model_dir, 0 <= y <= 1)\n@constraint(model_dir, x + y <= 1)\n@objective(model_dir, Max, x + 2y)\noptimize!(model_dir)\nobjective_value(model_dir)"
      ],
      "metadata": {},
      "execution_count": null
    },
    {
      "cell_type": "markdown",
      "source": [
        "## Solver Options\nMany of the solvers also allow options to be passed in. However, these options are solver-specific. To find out the various\noptions available, please check out the individual solver packages. Some examples for the CBC solver are given below."
      ],
      "metadata": {}
    },
    {
      "outputs": [],
      "cell_type": "code",
      "source": [
        "using Cbc"
      ],
      "metadata": {},
      "execution_count": null
    },
    {
      "cell_type": "markdown",
      "source": [
        "To turn off printing (i.e. silence the solver),"
      ],
      "metadata": {}
    },
    {
      "outputs": [],
      "cell_type": "code",
      "source": [
        "model1 = Model(with_optimizer(Cbc.Optimizer, logLevel = 0))"
      ],
      "metadata": {},
      "execution_count": null
    },
    {
      "cell_type": "markdown",
      "source": [
        "To increase the maximum number of iterations"
      ],
      "metadata": {}
    },
    {
      "outputs": [],
      "cell_type": "code",
      "source": [
        "model2 = Model(with_optimizer(Cbc.Optimizer, max_iters=10000))"
      ],
      "metadata": {},
      "execution_count": null
    },
    {
      "cell_type": "markdown",
      "source": [
        "To set the solution timeout limit"
      ],
      "metadata": {}
    },
    {
      "outputs": [],
      "cell_type": "code",
      "source": [
        "model3 = Model(with_optimizer(Cbc.Optimizer, seconds=5))"
      ],
      "metadata": {},
      "execution_count": null
    },
    {
      "cell_type": "markdown",
      "source": [
        "# Querying Solutions\nSo far we have seen all the elements and constructs related to writing a JuMP optimization model. In this section we \nreach the point of what to do with a solved problem. JuMP follows closely the concepts defined in MathOptInterface to \nanswer user questions about a finished call to `optimize!(model)`. The three main steps in querying a solution are \ngiven below. We'll use the model we created in `AUTOMATIC` mode with an optimizer attached in this section.\n## Termination Statuses\nTermination statuses are meant to explain the reason why the optimizer stopped executing in the most recent call \nto `optimize!`."
      ],
      "metadata": {}
    },
    {
      "outputs": [],
      "cell_type": "code",
      "source": [
        "termination_status(model_auto)"
      ],
      "metadata": {},
      "execution_count": null
    },
    {
      "cell_type": "markdown",
      "source": [
        "You can view the different termination status codes by referring to the docs or though checking the possible types using  \nthe below command."
      ],
      "metadata": {}
    },
    {
      "outputs": [],
      "cell_type": "code",
      "source": [
        "display(typeof(MOI.OPTIMAL))"
      ],
      "metadata": {},
      "execution_count": null
    },
    {
      "cell_type": "markdown",
      "source": [
        "## Solution Statuses\nThese statuses indicate what kind of result is available to be queried from the model. It's possible that no result is \navailable to be queried. We shall discuss more on the dual status and solutions in the Duality tutorial."
      ],
      "metadata": {}
    },
    {
      "outputs": [],
      "cell_type": "code",
      "source": [
        "primal_status(model_auto)\ndual_status(model_auto)"
      ],
      "metadata": {},
      "execution_count": null
    },
    {
      "cell_type": "markdown",
      "source": [
        "As we saw before, the result (solution) status codes can be viewed directly from Julia."
      ],
      "metadata": {}
    },
    {
      "outputs": [],
      "cell_type": "code",
      "source": [
        "display(typeof(MOI.FEASIBLE_POINT))"
      ],
      "metadata": {},
      "execution_count": null
    },
    {
      "cell_type": "markdown",
      "source": [
        "## Obtaining Solutions\nProvided the primal status is not `MOI.NO_SOLUTION`, we can inspect the solution values and optimal cost."
      ],
      "metadata": {}
    },
    {
      "outputs": [],
      "cell_type": "code",
      "source": [
        "@show value(x)\n@show value(y)           \n@show objective_value(model_auto)"
      ],
      "metadata": {},
      "execution_count": null
    },
    {
      "cell_type": "markdown",
      "source": [
        "Since it is possible that no solution is available to be queried from the model, calls to `value` may throw errors.\nHence, it is recommended to check for the presence of solutions."
      ],
      "metadata": {}
    },
    {
      "outputs": [],
      "cell_type": "code",
      "source": [
        "model_nosol = Model(with_optimizer(GLPK.Optimizer))\n@variable(model_nosol, 0 <= x <= 1)\n@variable(model_nosol, 0 <= y <= 1)\n@constraint(model_nosol, x + y >= 3)\n@objective(model_nosol, Max, x + 2y)\noptimize!(model_nosol)\n\nif termination_status(model_nosol) == MOI.OPTIMAL\n    optimal_solution = value(x)\n    optimal_objective = objective_value(model_nosol)\nelseif termination_status(model_nosol) == MOI.TIME_LIMIT && has_values(model_nosol)\n    suboptimal_solution = value(x)\n    suboptimal_objective = objective_value(model_nosol)\nelse\n    error(\"The model was not solved correctly.\")\nend"
      ],
      "metadata": {},
      "execution_count": null
    }
  ],
  "nbformat_minor": 2,
  "metadata": {
    "language_info": {
      "file_extension": ".jl",
      "mimetype": "application/julia",
      "name": "julia",
      "version": "1.0.3"
    },
    "kernelspec": {
      "name": "julia-1.0",
      "display_name": "Julia 1.0.3",
      "language": "julia"
    }
  },
  "nbformat": 4
}
