{
  "cells": [
    {
      "cell_type": "markdown",
      "source": [
        "# Variables, Constraints and Objective\n### Arpit Bhatia"
      ],
      "metadata": {}
    },
    {
      "cell_type": "markdown",
      "source": [
        "While the last tutorial introduced you to basics of of JuMP code, this tutorial will go in depth focusing on how to work \nwith different parts of a JuMP program."
      ],
      "metadata": {}
    },
    {
      "outputs": [],
      "cell_type": "code",
      "source": [
        "using JuMP\nmodel = Model()"
      ],
      "metadata": {},
      "execution_count": null
    },
    {
      "cell_type": "markdown",
      "source": [
        "# Variables"
      ],
      "metadata": {}
    },
    {
      "cell_type": "markdown",
      "source": [
        "## Variable Bounds\nAll of the variables we have created till now have had a bound. We can also create a free variable."
      ],
      "metadata": {}
    },
    {
      "outputs": [],
      "cell_type": "code",
      "source": [
        "@variable(model, freex)"
      ],
      "metadata": {},
      "execution_count": null
    },
    {
      "cell_type": "markdown",
      "source": [
        "While creating a variable, instead of using the <= and >= syntax, we can also use the `lower_bound` and `upper_bound` keyword arguments."
      ],
      "metadata": {}
    },
    {
      "outputs": [],
      "cell_type": "code",
      "source": [
        "@variable(model, altx, lower_bound=1, upper_bound=2)"
      ],
      "metadata": {},
      "execution_count": null
    },
    {
      "cell_type": "markdown",
      "source": [
        "We can query whether a variable has a bound using the `has_lower_bound` and `has_upper_bound` functions. The values of the bound can be obtained \nusing the `lower_bound` and `upper_bound` functions."
      ],
      "metadata": {}
    },
    {
      "outputs": [],
      "cell_type": "code",
      "source": [
        "has_upper_bound(altx)"
      ],
      "metadata": {},
      "execution_count": null
    },
    {
      "cell_type": "markdown",
      "source": [
        ""
      ],
      "metadata": {}
    },
    {
      "outputs": [],
      "cell_type": "code",
      "source": [
        "upper_bound(altx)"
      ],
      "metadata": {},
      "execution_count": null
    },
    {
      "cell_type": "markdown",
      "source": [
        "Note querying the value of a bound that does not exist will result in an error."
      ],
      "metadata": {}
    },
    {
      "outputs": [],
      "cell_type": "code",
      "source": [
        "lower_bound(freex)"
      ],
      "metadata": {},
      "execution_count": null
    },
    {
      "cell_type": "markdown",
      "source": [
        "JuMP also allows us to change the bounds on variable. We will learn this in the problem modification tutorial."
      ],
      "metadata": {}
    },
    {
      "cell_type": "markdown",
      "source": [
        "## Containers\nWe have already seen how to add a single variable to a model using the `@variable` macro. Let's now look at more ways to add \nvariables to a JuMP model. JuMP provides data structures for adding collections of variables to a model. These data \nstructures are reffered to as Containers and are of three types - `Arrays`, `DenseAxisArrays`, and `SparseAxisArrays`."
      ],
      "metadata": {}
    },
    {
      "cell_type": "markdown",
      "source": [
        "### Arrays\nJuMP arrays are created in a similar syntax to Julia arrays with the addition of specifying that the indices start with 1. If\nwe do not tell JuMP that the indices start at 1, it will create a DenseAxisArray instead."
      ],
      "metadata": {}
    },
    {
      "outputs": [],
      "cell_type": "code",
      "source": [
        "@variable(model, a[1:2, 1:2])"
      ],
      "metadata": {},
      "execution_count": null
    },
    {
      "cell_type": "markdown",
      "source": [
        "An n-dimensional variable $x \\in {R}^n$ having a bound $l \\preceq x \\preceq u$ ($l, u \\in {R}^n$) is added in the following \nmanner."
      ],
      "metadata": {}
    },
    {
      "outputs": [],
      "cell_type": "code",
      "source": [
        "n = 10\nl = [1; 2; 3; 4; 5; 6; 7; 8; 9; 10]\nu = [10; 11; 12; 13; 14; 15; 16; 17; 18; 19]\n\n@variable(model, l[i] <= x[i=1:n] <= u[i])"
      ],
      "metadata": {},
      "execution_count": null
    },
    {
      "cell_type": "markdown",
      "source": [
        "Note that while working with Containers, we can also create variable bounds depending upon the indices"
      ],
      "metadata": {}
    },
    {
      "outputs": [],
      "cell_type": "code",
      "source": [
        "@variable(model, y[i=1:2, j=1:2] >= 2i + j)"
      ],
      "metadata": {},
      "execution_count": null
    },
    {
      "cell_type": "markdown",
      "source": [
        "### DenseAxisArrays\nDenseAxisArrays are used when the required indices are not one-based integer ranges. The syntax is similar except with an \narbitrary vector as an index as opposed to a one-based range."
      ],
      "metadata": {}
    },
    {
      "cell_type": "markdown",
      "source": [
        "An example where the indices are integers but do not start with one."
      ],
      "metadata": {}
    },
    {
      "outputs": [],
      "cell_type": "code",
      "source": [
        "@variable(model, z[i=2:3, j=1:2:3] >= 0)"
      ],
      "metadata": {},
      "execution_count": null
    },
    {
      "cell_type": "markdown",
      "source": [
        "Another example where the indices are an arbitrary vector."
      ],
      "metadata": {}
    },
    {
      "outputs": [],
      "cell_type": "code",
      "source": [
        "@variable(model, w[1:5,[\"red\",\"blue\"]] <= 1)"
      ],
      "metadata": {},
      "execution_count": null
    },
    {
      "cell_type": "markdown",
      "source": [
        "### SparseAxisArrays\nSparseAxisArrays are created when the indices do not form a rectangular set. For example, this applies when indices have a \ndependence upon previous indices (called triangular indexing)."
      ],
      "metadata": {}
    },
    {
      "outputs": [],
      "cell_type": "code",
      "source": [
        "@variable(model, u[i=1:3, j=i:5])"
      ],
      "metadata": {},
      "execution_count": null
    },
    {
      "cell_type": "markdown",
      "source": [
        "We can also conditionally create variables by adding a comparison check that depends upon the named indices and is separated \nfrom the indices by a semi-colon (;)."
      ],
      "metadata": {}
    },
    {
      "outputs": [],
      "cell_type": "code",
      "source": [
        "@variable(model, v[i=1:9; mod(i, 3)==0])"
      ],
      "metadata": {},
      "execution_count": null
    },
    {
      "cell_type": "markdown",
      "source": [
        "## Variable Types"
      ],
      "metadata": {}
    },
    {
      "cell_type": "markdown",
      "source": [
        "The last arguement to the `@variable` macro is usually the variable type. Here we'll look at how to specifiy he variable type."
      ],
      "metadata": {}
    },
    {
      "cell_type": "markdown",
      "source": [
        "### Integer Variables\nInteger optimization variables are constrained to the set $x \\in {Z}$"
      ],
      "metadata": {}
    },
    {
      "outputs": [],
      "cell_type": "code",
      "source": [
        "@variable(model, intx, Int)"
      ],
      "metadata": {},
      "execution_count": null
    },
    {
      "cell_type": "markdown",
      "source": [
        "or"
      ],
      "metadata": {}
    },
    {
      "outputs": [],
      "cell_type": "code",
      "source": [
        "@variable(model, intx, integer=true)"
      ],
      "metadata": {},
      "execution_count": null
    },
    {
      "cell_type": "markdown",
      "source": [
        "### Binary Variables\nBinary optimization variables are constrained to the set $x \\in \\{0, 1\\}$."
      ],
      "metadata": {}
    },
    {
      "outputs": [],
      "cell_type": "code",
      "source": [
        "@variable(model, binx, Bin)"
      ],
      "metadata": {},
      "execution_count": null
    },
    {
      "cell_type": "markdown",
      "source": [
        "or"
      ],
      "metadata": {}
    },
    {
      "outputs": [],
      "cell_type": "code",
      "source": [
        "@variable(model, binx, binary=true)"
      ],
      "metadata": {},
      "execution_count": null
    },
    {
      "cell_type": "markdown",
      "source": [
        "### Semidefinite variables\nJuMP also supports modeling with semidefinite variables. A square symmetric matrix X is positive semidefinite if all eigenvalues \nare nonnegative."
      ],
      "metadata": {}
    },
    {
      "outputs": [],
      "cell_type": "code",
      "source": [
        "@variable(model, psdx[1:2, 1:2], PSD)"
      ],
      "metadata": {},
      "execution_count": null
    },
    {
      "cell_type": "markdown",
      "source": [
        "We can also impose a weaker constraint that the square matrix is only symmetric (instead of positive semidefinite) as follows:"
      ],
      "metadata": {}
    },
    {
      "outputs": [],
      "cell_type": "code",
      "source": [
        "@variable(model, symx[1:2, 1:2], Symmetric)"
      ],
      "metadata": {},
      "execution_count": null
    },
    {
      "cell_type": "markdown",
      "source": [
        "# Constraints"
      ],
      "metadata": {}
    },
    {
      "outputs": [],
      "cell_type": "code",
      "source": [
        "model = Model()\n@variable(model, x)\n@variable(model, y)\n@variable(model, z[1:10])"
      ],
      "metadata": {},
      "execution_count": null
    },
    {
      "cell_type": "markdown",
      "source": [
        "## Constraint References\nWhile calling the `@constraint` macro, we can also set up a constraint reference. Such a refference is useful for obtaining\nadditional information about the constraint such as its dual."
      ],
      "metadata": {}
    },
    {
      "outputs": [],
      "cell_type": "code",
      "source": [
        "@constraint(model, con, x <= 4)"
      ],
      "metadata": {},
      "execution_count": null
    },
    {
      "cell_type": "markdown",
      "source": [
        "## Containers\nJust as we had containers for variables, JuMP also provides `Arrays`, `DenseAxisArrays`, and `SparseAxisArrays` for storing\ncollections of constraints. Examples for each container type are given below."
      ],
      "metadata": {}
    },
    {
      "cell_type": "markdown",
      "source": [
        "### Arrays"
      ],
      "metadata": {}
    },
    {
      "outputs": [],
      "cell_type": "code",
      "source": [
        "@constraint(model, acon[i = 1:3], i * x <= i + 1)"
      ],
      "metadata": {},
      "execution_count": null
    },
    {
      "cell_type": "markdown",
      "source": [
        "### DenseAxisArrays"
      ],
      "metadata": {}
    },
    {
      "outputs": [],
      "cell_type": "code",
      "source": [
        "@constraint(model, dcon[i = 1:2, j = 2:3], i * x <= j + 1)"
      ],
      "metadata": {},
      "execution_count": null
    },
    {
      "cell_type": "markdown",
      "source": [
        "### SparseAxisArrays"
      ],
      "metadata": {}
    },
    {
      "outputs": [],
      "cell_type": "code",
      "source": [
        "@constraint(model, scon[i = 1:2, j = 1:2; i != j], i * x <= j + 1)"
      ],
      "metadata": {},
      "execution_count": null
    },
    {
      "cell_type": "markdown",
      "source": [
        "## Constraints in a Loop\nWe can add constraints using regular Julia loops"
      ],
      "metadata": {}
    },
    {
      "outputs": [],
      "cell_type": "code",
      "source": [
        "for i in 1:3\n    @constraint(model, 6*x + 4*y >= 5*i)\nend"
      ],
      "metadata": {},
      "execution_count": null
    },
    {
      "cell_type": "markdown",
      "source": [
        "or use for each loops inside the `@constraint` macro"
      ],
      "metadata": {}
    },
    {
      "outputs": [],
      "cell_type": "code",
      "source": [
        "@constraint(model, conRef3[i in 1:3], 6*x + 4*y >= 5*i)"
      ],
      "metadata": {},
      "execution_count": null
    },
    {
      "cell_type": "markdown",
      "source": [
        "We can also created constraints such as ``$\\sum _{i = 1}^{10} z_i \\leq 1$``"
      ],
      "metadata": {}
    },
    {
      "outputs": [],
      "cell_type": "code",
      "source": [
        "@constraint(model, sum(z[i] for i in 1:10) <= 1)"
      ],
      "metadata": {},
      "execution_count": null
    },
    {
      "cell_type": "markdown",
      "source": [
        "# Objective\nWhile the recommended way to set the objective is with the @objective macro, the functions `set_objective_sense` and \n`set_objective_function` provide an equivalent lower-level interface."
      ],
      "metadata": {}
    },
    {
      "outputs": [],
      "cell_type": "code",
      "source": [
        "using GLPK\n\nmymodel = Model(with_optimizer(GLPK.Optimizer))\n@variable(mymodel, x >= 0)\n@variable(mymodel, y >= 0)\nset_objective_sense(mymodel, MOI.MIN_SENSE)\nset_objective_function(mymodel, x + y)\n\noptimize!(mymodel)\n       \n@show objective_value(mymodel)"
      ],
      "metadata": {},
      "execution_count": null
    },
    {
      "cell_type": "markdown",
      "source": [
        "To query the objective function from a model, we use the `objective_sense`, `objective_function`, and `objective_function_type`\nfunctions."
      ],
      "metadata": {}
    },
    {
      "outputs": [],
      "cell_type": "code",
      "source": [
        "objective_sense(mymodel)"
      ],
      "metadata": {},
      "execution_count": null
    },
    {
      "cell_type": "markdown",
      "source": [
        ""
      ],
      "metadata": {}
    },
    {
      "outputs": [],
      "cell_type": "code",
      "source": [
        "objective_function(mymodel)"
      ],
      "metadata": {},
      "execution_count": null
    },
    {
      "cell_type": "markdown",
      "source": [
        ""
      ],
      "metadata": {}
    },
    {
      "outputs": [],
      "cell_type": "code",
      "source": [
        "objective_function_type(mymodel)"
      ],
      "metadata": {},
      "execution_count": null
    },
    {
      "cell_type": "markdown",
      "source": [
        "# Vectorized Constraints and Objective\nWe can also add constraints and objective to JuMP using vectorized linear algebra. We'll illustrate this by solving an LP in\nstandard form i.e."
      ],
      "metadata": {}
    },
    {
      "cell_type": "markdown",
      "source": [
        "$$\n\\begin{align*}\n\\min && c^T x \\\\\n\\text{subject to} && A x = b \\\\\n&& x \\succeq 0 \\\\\n&& x \\in \\mathbb{R}^n \\\\\n\\end{align*}\n$$"
      ],
      "metadata": {}
    },
    {
      "outputs": [],
      "cell_type": "code",
      "source": [
        "vectormodel = Model(with_optimizer(GLPK.Optimizer))\n\nA= [ 1 1 9 5;\n     3 5 0 8;\n     2 0 6 13]\n\nb = [7; 3; 5]\n\nc = [1; 3; 5; 2]\n\n@variable(vectormodel, x[1:4] >= 0)\n@constraint(vectormodel, A * x .== b)\n@objective(vectormodel, Min, c' * x)\n\noptimize!(vectormodel)\n\n@show objective_value(vectormodel)"
      ],
      "metadata": {},
      "execution_count": null
    }
  ],
  "nbformat_minor": 2,
  "metadata": {
    "language_info": {
      "file_extension": ".jl",
      "mimetype": "application/julia",
      "name": "julia",
      "version": "1.0.3"
    },
    "kernelspec": {
      "name": "julia-1.0",
      "display_name": "Julia 1.0.3",
      "language": "julia"
    }
  },
  "nbformat": 4
}
