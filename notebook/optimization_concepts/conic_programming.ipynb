{
 "cells": [
  {
   "cell_type": "markdown",
   "metadata": {},
   "source": [
    "# Conic Programming\n",
    "### Arpit Bhatia"
   ]
  },
  {
   "cell_type": "markdown",
   "metadata": {},
   "source": [
    "This tutorial is aimed at providing a simplistic introduction to conic programming using JuMP."
   ]
  },
  {
   "cell_type": "markdown",
   "metadata": {},
   "source": [
    "# What is a Cone?\n",
    "A subset $C$ of a vector space $V$ is a cone if $\\forall x \\in C$ and positive scalars $\\alpha$, \n",
    "the product $\\alpha x \\in C$. A cone C is a convex cone if $\\alpha x + \\beta y \\in C$, \n",
    "for any positive scalars $\\alpha, \\beta$, and any $x, y \\in C$."
   ]
  },
  {
   "cell_type": "markdown",
   "metadata": {},
   "source": [
    "# Conic Programming\n",
    "Conic programming problems are convex optimization problems in which a convex function is minimized\n",
    "over the intersection of an affine subspace and a convex cone. \n",
    "An example of a conic-form minimization problems, in the primal form is:"
   ]
  },
  {
   "cell_type": "markdown",
   "metadata": {},
   "source": [
    "$$\n",
    "\\begin{align}\n",
    "& \\min_{x \\in \\mathbb{R}^n} & a_0^T x + b_0 \\\\\n",
    "& \\;\\;\\text{s.t.} & A_i x + b_i & \\in \\mathcal{C}_i & i = 1 \\ldots m\n",
    "\\end{align}\n",
    "$$"
   ]
  },
  {
   "cell_type": "markdown",
   "metadata": {},
   "source": [
    "The corresponding dual problem is:"
   ]
  },
  {
   "cell_type": "markdown",
   "metadata": {},
   "source": [
    "$$\n",
    "\\begin{align}\n",
    "& \\max_{y_1, \\ldots, y_m} & -\\sum_{i=1}^m b_i^T y_i + b_0 \\\\\n",
    "& \\;\\;\\text{s.t.} & a_0 - \\sum_{i=1}^m A_i^T y_i & = 0 \\\\\n",
    "& & y_i & \\in \\mathcal{C}_i^* & i = 1 \\ldots m\n",
    "\\end{align}\n",
    "$$"
   ]
  },
  {
   "cell_type": "markdown",
   "metadata": {},
   "source": [
    "where each $\\mathcal{C}_i$ is a closed convex cone and $\\mathcal{C}_i^*$ is its dual cone."
   ]
  },
  {
   "cell_type": "markdown",
   "metadata": {},
   "source": [
    "# Some of the Types of Cones Supported by JuMP"
   ]
  },
  {
   "cell_type": "code",
   "execution_count": 1,
   "metadata": {},
   "outputs": [],
   "source": [
    "using JuMP\n",
    "using ECOS\n",
    "using CSDP"
   ]
  },
  {
   "cell_type": "markdown",
   "metadata": {},
   "source": [
    "By this point we have used quite a few different solvers. \n",
    "To find out all the different solvers and their supported problem types, check out the \n",
    "[solver table](http://www.juliaopt.org/JuMP.jl/v0.19.0/installation/#Getting-Solvers-1) in the docs."
   ]
  },
  {
   "cell_type": "markdown",
   "metadata": {},
   "source": [
    "## Second-Order Cone\n",
    "The Second-Order Cone (or Lorenz Cone) of dimension $n$ is of the form:"
   ]
  },
  {
   "cell_type": "markdown",
   "metadata": {},
   "source": [
    "$$\n",
    "Q^n = \\{ (t,x) \\in \\mathbb{R}^\\mbox{n} : t \\ge ||x||_2 \\}\n",
    "$$"
   ]
  },
  {
   "cell_type": "markdown",
   "metadata": {},
   "source": [
    "A Second-Order Cone rotated by $\\pi/4$ in the $(x_1,x_2)$ plane is called a Rotated Second-Order Cone.\n",
    "It is of the form:"
   ]
  },
  {
   "cell_type": "markdown",
   "metadata": {},
   "source": [
    "$$\n",
    "Q_r^n = \\{ (t,u,x) \\in \\mathbb{R}^\\mbox{n} : 2tu \\ge ||x||_2^2, t,u \\ge 0 \\}\n",
    "$$"
   ]
  },
  {
   "cell_type": "markdown",
   "metadata": {},
   "source": [
    "These cones are represented in JuMP using the MOI sets `SecondOrderCone` and `RotatedSecondOrderCone`."
   ]
  },
  {
   "cell_type": "markdown",
   "metadata": {},
   "source": [
    "### Example: Euclidean Projection on a Hyperplane\n",
    "For a given point $u_{0}$ and a set $K$, we refer to any point $u \\in K$ \n",
    "which is closest to $u_{0}$ as a projection of $u_{0}$ on $K$. \n",
    "The projection of a point $u_{0}$ on a hyperplane $K = \\{u | p' \\cdot u = q\\}$ is given by"
   ]
  },
  {
   "cell_type": "markdown",
   "metadata": {},
   "source": [
    "$$\n",
    "\\begin{align*}\n",
    "\\min && ||u - u_{0}|| \\\\\n",
    "s.t. && p' \\cdot u = q \n",
    "\\end{align*}\n",
    "$$"
   ]
  },
  {
   "cell_type": "code",
   "execution_count": 2,
   "metadata": {},
   "outputs": [],
   "source": [
    "u0 = rand(10)\n",
    "p = rand(10)\n",
    "q = rand();"
   ]
  },
  {
   "cell_type": "markdown",
   "metadata": {},
   "source": [
    "We can model the above problem as the following conic program:"
   ]
  },
  {
   "cell_type": "markdown",
   "metadata": {},
   "source": [
    "$$\n",
    "\\begin{align*}\n",
    "\\min t \\\\\n",
    "\\text { s.t. }  p' \\cdot u = q \\\\\n",
    "(t, u - u_{0}) \\in Q^{n+1}\n",
    "\\end{align*}\n",
    "$$"
   ]
  },
  {
   "cell_type": "markdown",
   "metadata": {},
   "source": [
    "On comparing this with the primal form of a conic problem we saw above,"
   ]
  },
  {
   "cell_type": "markdown",
   "metadata": {},
   "source": [
    "$$\n",
    "\\begin{align*}\n",
    "x = (t , u) \\\\\n",
    "a_0 = e_1 \\\\\n",
    "b_0 = 0 \\\\\n",
    "A_1 = (0, p) \\\\\n",
    "b_1 = -q \\\\\n",
    "C_1 = \\mathbb{R}_- \\\\\n",
    "A_2 = 1 \\\\\n",
    "b_2 = -(0, u_0) \\\\\n",
    "C_2 = Q^{n+1} \n",
    "\\end{align*}\n",
    "$$"
   ]
  },
  {
   "cell_type": "markdown",
   "metadata": {},
   "source": [
    "Thus, we can obtain the dual problem as:"
   ]
  },
  {
   "cell_type": "markdown",
   "metadata": {},
   "source": [
    "$$\n",
    "\\begin{align*}\n",
    "\\max q  y_1 + (0, u_0)^T y_2 \\\\\n",
    "\\text { s.t. } e_1 - (0,p)^T y_1 - y_2 = 0 \\\\\n",
    "y_1 \\in ? \\\\\n",
    "y_2 \\in Q^{n+1} \n",
    "\\end{align*}\n",
    "$$"
   ]
  },
  {
   "cell_type": "code",
   "execution_count": 3,
   "metadata": {},
   "outputs": [
    {
     "name": "stdout",
     "output_type": "stream",
     "text": [
      "\n",
      "ECOS 2.0.5 - (C) embotech GmbH, Zurich Switzerland, 2012-15. Web: www.embotech.com/ECOS\n",
      "\n",
      "It     pcost       dcost      gap   pres   dres    k/t    mu     step   sigma     IR    |   BT\n",
      " 0  +0.000e+00  -0.000e+00  +1e+01  4e-01  3e-04  1e+00  6e+00    ---    ---    1  1  - |  -  - \n",
      " 1  +3.668e-01  +3.749e-01  +1e+00  7e-02  3e-05  1e-01  7e-01  0.8882  2e-03   2  2  2 |  0  0\n",
      " 2  +1.514e+00  +1.542e+00  +7e-02  5e-03  2e-06  4e-02  5e-02  0.9716  5e-02   2  2  2 |  0  0\n",
      " 3  +1.553e+00  +1.554e+00  +8e-04  5e-05  2e-08  4e-04  6e-04  0.9890  1e-04   1  1  1 |  0  0\n",
      " 4  +1.554e+00  +1.554e+00  +9e-06  6e-07  2e-10  5e-06  7e-06  0.9890  1e-04   1  1  1 |  0  0\n",
      " 5  +1.554e+00  +1.554e+00  +1e-07  7e-09  2e-12  5e-08  7e-08  0.9890  1e-04   1  1  1 |  0  0\n",
      " 6  +1.554e+00  +1.554e+00  +1e-09  7e-11  3e-14  6e-10  8e-10  0.9890  1e-04   2  1  1 |  0  0\n",
      "\n",
      "OPTIMAL (within feastol=7.3e-11, reltol=6.8e-10, abstol=1.1e-09).\n",
      "Runtime: 0.000239 seconds.\n",
      "\n"
     ]
    }
   ],
   "source": [
    "model = Model(with_optimizer(ECOS.Optimizer, printlevel = 0))\n",
    "@variable(model, u[1:10])\n",
    "@variable(model, t)\n",
    "@objective(model, Min, t)\n",
    "@constraint(model, [t, (u - u0)...] in SecondOrderCone())\n",
    "@constraint(model, u' * p == q) \n",
    "optimize!(model)"
   ]
  },
  {
   "cell_type": "code",
   "execution_count": 4,
   "metadata": {},
   "outputs": [
    {
     "name": "stdout",
     "output_type": "stream",
     "text": [
      "value.(u) = [-0.502476, 0.111571, 0.525742, -0.0222537, 0.458049, -0.320117, -0.145291, 0.22761, 0.734226, -0.171106]\n"
     ]
    },
    {
     "data": {
      "text/plain": [
       "10-element Array{Float64,1}:\n",
       " -0.502476312823145   \n",
       "  0.11157110806521377 \n",
       "  0.5257421149175829  \n",
       " -0.022253706832804972\n",
       "  0.4580490946464344  \n",
       " -0.3201172769617206  \n",
       " -0.14529055883392586 \n",
       "  0.2276099498497713  \n",
       "  0.7342259973253014  \n",
       " -0.17110609590022974 "
      ]
     },
     "execution_count": 4,
     "metadata": {},
     "output_type": "execute_result"
    }
   ],
   "source": [
    "@show value.(u)"
   ]
  },
  {
   "cell_type": "markdown",
   "metadata": {},
   "source": [
    "We can also have an equivalent formulation using a Rotated Second-Order Cone:"
   ]
  },
  {
   "cell_type": "markdown",
   "metadata": {},
   "source": [
    "$$\n",
    "\\begin{align*}\n",
    "\\min t \\\\\n",
    "\\text { s.t. }  p' \\cdot u = q \\\\\n",
    "(t, 1/2, u - u_{0})\\in Q_r^{n+2}\n",
    "\\end{align*}\n",
    "$$"
   ]
  },
  {
   "cell_type": "code",
   "execution_count": 5,
   "metadata": {},
   "outputs": [
    {
     "name": "stdout",
     "output_type": "stream",
     "text": [
      "\n",
      "ECOS 2.0.5 - (C) embotech GmbH, Zurich Switzerland, 2012-15. Web: www.embotech.com/ECOS\n",
      "\n",
      "It     pcost       dcost      gap   pres   dres    k/t    mu     step   sigma     IR    |   BT\n",
      " 0  +0.000e+00  -3.376e-02  +9e+00  4e-01  2e-02  1e+00  5e+00    ---    ---    1  1  - |  -  - \n",
      " 1  +9.545e-02  +1.014e-01  +1e+00  6e-02  2e-03  1e-01  6e-01  0.8880  1e-03   1  1  1 |  0  0\n",
      " 2  +1.529e+00  +2.307e+00  +7e-01  2e-01  5e-03  1e+00  4e-01  0.6251  5e-01   2  2  2 |  0  0\n",
      " 3  +2.308e+00  +2.341e+00  +1e-02  4e-03  9e-05  4e-02  7e-03  0.9828  1e-04   1  1  1 |  0  0\n",
      " 4  +2.371e+00  +2.380e+00  +2e-03  8e-04  2e-05  1e-02  1e-03  0.8362  1e-02   2  1  1 |  0  0\n",
      " 5  +2.400e+00  +2.409e+00  +7e-04  4e-04  9e-06  9e-03  5e-04  0.8065  3e-01   2  1  2 |  0  0\n",
      " 6  +2.410e+00  +2.412e+00  +1e-04  8e-05  2e-06  2e-03  9e-05  0.8260  1e-02   2  1  1 |  0  0\n",
      " 7  +2.414e+00  +2.414e+00  +2e-05  1e-05  3e-07  3e-04  2e-05  0.8963  1e-01   2  2  2 |  0  0\n",
      " 8  +2.414e+00  +2.414e+00  +4e-06  3e-06  5e-08  5e-05  3e-06  0.8321  1e-02   2  1  1 |  0  0\n",
      " 9  +2.414e+00  +2.415e+00  +8e-07  6e-07  1e-08  1e-05  7e-07  0.8980  1e-01   2  1  1 |  0  0\n",
      "10  +2.415e+00  +2.415e+00  +1e-07  1e-07  2e-09  3e-06  1e-07  0.8272  2e-02   2  1  1 |  0  0\n",
      "11  +2.415e+00  +2.415e+00  +3e-08  2e-08  4e-10  6e-07  3e-08  0.9005  1e-01   2  1  1 |  0  0\n",
      "12  +2.415e+00  +2.415e+00  +5e-09  4e-09  8e-11  1e-07  5e-09  0.8237  2e-02   1  1  1 |  0  0\n",
      "\n",
      "OPTIMAL (within feastol=4.0e-09, reltol=2.1e-09, abstol=5.2e-09).\n",
      "Runtime: 0.000257 seconds.\n",
      "\n"
     ]
    }
   ],
   "source": [
    "model = Model(with_optimizer(ECOS.Optimizer, printlevel = 0))\n",
    "@variable(model, u[1:10])\n",
    "@variable(model, t)\n",
    "@objective(model, Min, t)\n",
    "@constraint(model, [t, 0.5, (u - u0)...] in RotatedSecondOrderCone())\n",
    "@constraint(model, u' * p == q) \n",
    "optimize!(model)"
   ]
  },
  {
   "cell_type": "code",
   "execution_count": 6,
   "metadata": {},
   "outputs": [
    {
     "name": "stdout",
     "output_type": "stream",
     "text": [
      "value.(u) = [-0.502476, 0.111571, 0.525742, -0.0222537, 0.458049, -0.320117, -0.145291, 0.22761, 0.734226, -0.171106]\n"
     ]
    },
    {
     "data": {
      "text/plain": [
       "10-element Array{Float64,1}:\n",
       " -0.5024763128681569 \n",
       "  0.11157110804418605\n",
       "  0.5257421149179967 \n",
       " -0.02225370686805626\n",
       "  0.4580490946426287 \n",
       " -0.32011727702240245\n",
       " -0.14529055884477976\n",
       "  0.22760994983929111\n",
       "  0.7342259973254041 \n",
       " -0.17110609547400837"
      ]
     },
     "execution_count": 6,
     "metadata": {},
     "output_type": "execute_result"
    }
   ],
   "source": [
    "@show value.(u)"
   ]
  },
  {
   "cell_type": "markdown",
   "metadata": {},
   "source": [
    "The difference here is that the objective in the case of the Second-Order Cone is $||u - u_{0}||_2$,\n",
    "while in the case of a Rotated Second-Order Cone is $||u - u_{0}||_2^2$.\n",
    "However, the value of x is the same for both."
   ]
  },
  {
   "cell_type": "markdown",
   "metadata": {},
   "source": [
    "## Exponential Cone"
   ]
  },
  {
   "cell_type": "markdown",
   "metadata": {},
   "source": [
    "An Exponential Cone is a set of the form:"
   ]
  },
  {
   "cell_type": "markdown",
   "metadata": {},
   "source": [
    "$$\n",
    "K_{exp} = \\{ (x,y,z) \\in \\mathbb{R}^3 : y \\exp (x/y) \\le z, y > 0 \\}\n",
    "$$"
   ]
  },
  {
   "cell_type": "markdown",
   "metadata": {},
   "source": [
    "It is represented in JuMP using the MOI set `ExponentialCone`."
   ]
  },
  {
   "cell_type": "markdown",
   "metadata": {},
   "source": [
    "### Example: Entropy Maximization\n",
    "As the name suggests, the entropy maximization problem consists of maximizing the entropy function,\n",
    "$H(x) = -x\\log{x}$ subject to linear inequality constraints."
   ]
  },
  {
   "cell_type": "markdown",
   "metadata": {},
   "source": [
    "$$\n",
    "\\begin{align*}\n",
    "\\max - \\sum_{i=1}^n x_i \\log x_i \\\\\n",
    "\\text { s.t. } \\mathbf{1}' x = 1 \\\\\n",
    "Ax \\leq b\n",
    "\\end{align*}\n",
    "$$"
   ]
  },
  {
   "cell_type": "markdown",
   "metadata": {},
   "source": [
    "We can model this problem using an exponential cone by using the following transformation:"
   ]
  },
  {
   "cell_type": "markdown",
   "metadata": {},
   "source": [
    "$$\n",
    "t\\leq -x\\log{x} \\iff t\\leq x\\log(1/x)  \\iff (1, x, t) \\in K_{exp}\n",
    "$$"
   ]
  },
  {
   "cell_type": "markdown",
   "metadata": {},
   "source": [
    "Thus, our problem becomes,"
   ]
  },
  {
   "cell_type": "markdown",
   "metadata": {},
   "source": [
    "$$\n",
    "\\begin{align*}\n",
    "\\max 1^Tt \\\\\n",
    "\\text { s.t. } Ax \\leq b \\\\\n",
    "1^T x = 1 \\\\\n",
    "(1, x_i, t_i) \\in K_{exp} && \\forall i = 1 \\ldots n\n",
    "\\end{align*}\n",
    "$$"
   ]
  },
  {
   "cell_type": "code",
   "execution_count": 7,
   "metadata": {},
   "outputs": [
    {
     "name": "stdout",
     "output_type": "stream",
     "text": [
      "\n",
      "ECOS 2.0.5 - (C) embotech GmbH, Zurich Switzerland, 2012-15. Web: www.embotech.com/ECOS\n",
      "\n",
      "It     pcost       dcost      gap   pres   dres    k/t    mu     step   sigma     IR    |   BT\n",
      " 0  +0.000e+00  +5.090e+00  +6e+01  1e+00  8e-01  1e+00  1e+00    ---    ---    0  0  - |  -  - \n",
      " 1  +3.364e+01  +2.234e+02  +2e+01  2e+01  2e+01  1e+02  4e-01  0.6351  7e-02   1  1  1 |  0  0\n",
      " 2  -3.098e+01  +1.210e+01  +1e+01  8e-01  6e-01  4e+01  3e-01  0.7833  5e-01   1  1  1 |  0  1\n",
      " 3  -1.862e+02  +4.850e+01  +4e+00  1e+00  1e+00  2e+02  1e-01  0.7253  1e-01   1  1  1 |  2  1\n",
      " 4  -9.704e+02  +1.044e+02  +2e+00  2e+00  1e+00  1e+03  4e-02  0.7833  2e-01   1  1  1 |  3  1\n",
      " 5  -4.348e+03  +1.742e+02  +4e-01  2e+00  1e+00  5e+03  8e-03  0.7833  1e-02   1  1  1 |  1  1\n",
      " 6  -1.759e+04  -4.929e+01  +8e-02  2e+00  1e+00  2e+04  2e-03  0.7833  1e-02   2  1  1 |  1  1\n",
      " 7  -7.075e+04  -2.289e+03  +2e-02  2e+00  1e+00  7e+04  4e-04  0.7833  1e-02   2  1  1 |  1  1\n",
      " 8  -2.654e+05  -1.435e+04  +4e-03  2e+00  1e+00  3e+05  9e-05  0.7833  5e-02   2  1  1 |  2  1\n",
      " 9  -9.507e+05  -6.860e+04  +9e-04  2e+00  1e+00  9e+05  2e-05  0.7833  5e-02   2  1  1 |  2  1\n",
      "10  -3.381e+06  -2.966e+05  +2e-04  2e+00  1e+00  3e+06  5e-06  0.7833  5e-02   1  1  1 |  2  1\n",
      "11  -1.206e+07  -1.223e+06  +5e-05  2e+00  1e+00  1e+07  1e-06  0.7833  5e-02   2  1  1 |  2  1\n",
      "12  -6.600e+07  -8.634e+06  +1e-05  3e+00  2e+00  6e+07  2e-07  0.9791  2e-01   2  0  0 |  4  0\n",
      "13  -2.068e+08  -3.244e+07  +2e-06  3e+00  1e+00  2e+08  5e-08  0.7833  9e-03   2  0  0 |  1  1\n",
      "14  -7.526e+08  -1.313e+08  +5e-07  3e+00  1e+00  6e+08  1e-08  0.7833  5e-02   2  0  0 |  2  1\n",
      "15  -5.896e+09  -1.188e+09  +1e-07  5e+00  2e+00  5e+09  2e-09  0.9791  2e-01   1  0  0 |  4  0\n",
      "16  -2.515e+10  -5.292e+09  +2e-08  5e+00  2e+00  2e+10  4e-10  0.7833  5e-02   1  0  0 |  2  1\n",
      "\n",
      "UNBOUNDED (within feastol=3.2e-09).\n",
      "Runtime: 0.001183 seconds.\n",
      "\n"
     ]
    }
   ],
   "source": [
    "# Cannot use the exponential cone directly in JuMP, hence we import MOI to specify the set.\n",
    "using MathOptInterface\n",
    "const MOI = MathOptInterface\n",
    "\n",
    "n = 15;\n",
    "m = 10;\n",
    "A = randn(m, n); \n",
    "b = rand(m, 1);\n",
    "\n",
    "model = Model(with_optimizer(ECOS.Optimizer, printlevel = 0))\n",
    "@variable(model, t[1:n])\n",
    "@variable(model, x[1:n])\n",
    "@objective(model, Max, sum(t))\n",
    "@constraint(model, sum(x) == 1)\n",
    "@constraint(model, A * x .<= b )\n",
    "@constraint(model, con[i = 1:n], [1, x[i], t[i]] in MOI.ExponentialCone())\n",
    "\n",
    "optimize!(model);"
   ]
  },
  {
   "cell_type": "code",
   "execution_count": 8,
   "metadata": {},
   "outputs": [
    {
     "data": {
      "text/plain": [
       "2.5151666024837517e10"
      ]
     },
     "execution_count": 8,
     "metadata": {},
     "output_type": "execute_result"
    }
   ],
   "source": [
    "objective_value(model)"
   ]
  },
  {
   "cell_type": "markdown",
   "metadata": {},
   "source": [
    "## Positive Semidefinite Cone\n",
    "The set of Positive Semidefinite Matrices of dimension $n$ form a cone in $\\mathbb{R}^n$.\n",
    "We write this set mathematically as"
   ]
  },
  {
   "cell_type": "markdown",
   "metadata": {},
   "source": [
    "$$\n",
    "\\mathcal{S}_{+}^n = \\{ X \\in \\mathcal{S}^n \\mid z^T X z \\geq 0, \\: \\forall z\\in \\mathbb{R}^n \\}.\n",
    "$$"
   ]
  },
  {
   "cell_type": "markdown",
   "metadata": {},
   "source": [
    "A PSD cone is represented in JuMP using the MOI sets \n",
    "`PositiveSemidefiniteConeTriangle` (for upper triangle of a PSD matrix) and\n",
    "`PositiveSemidefiniteConeSquare` (for a complete PSD matrix). \n",
    "However, it is prefferable to use the `PSDCone` shortcut as illustrated below."
   ]
  },
  {
   "cell_type": "markdown",
   "metadata": {},
   "source": [
    "### Example: Largest Eigenvalue of a Symmetric Matrix\n",
    "Suppose $A$ has eigenvalues $\\lambda_{1} \\geq \\lambda_{2} \\ldots \\geq \\lambda_{n}$. \n",
    "Then the matrix $t I-A$ has eigenvalues $t-\\lambda_{1}, t-\\lambda_{2}, \\ldots, t-\\lambda_{n}$. \n",
    "Note that $t I-A$ is PSD exactly when all these eigenvalues are non-negative, \n",
    "and this happens for values $t \\geq \\lambda_{1} .$ \n",
    "Thus, we can model the problem of finding the largest eigenvalue of a symmetric matrix as:"
   ]
  },
  {
   "cell_type": "markdown",
   "metadata": {},
   "source": [
    "$$\n",
    "\\begin{align*}\n",
    "\\lambda_{1} = \\max t \\\\\n",
    "\\text { s.t. } t I-A \\succeq 0\n",
    "\\end{align*}\n",
    "$$"
   ]
  },
  {
   "cell_type": "code",
   "execution_count": 9,
   "metadata": {},
   "outputs": [],
   "source": [
    "using LinearAlgebra\n",
    "\n",
    "A = [3 2 4;\n",
    "     2 0 2;\n",
    "     4 2 3]\n",
    "\n",
    "model = Model(with_optimizer(CSDP.Optimizer, printlevel = 0))\n",
    "@variable(model, t)\n",
    "@objective(model, Min, t)\n",
    "@constraint(model, t .* Matrix{Float64}(I, 3, 3) - A in PSDCone())\n",
    "\n",
    "optimize!(model)"
   ]
  },
  {
   "cell_type": "markdown",
   "metadata": {},
   "source": []
  },
  {
   "cell_type": "code",
   "execution_count": 10,
   "metadata": {},
   "outputs": [
    {
     "data": {
      "text/plain": [
       "8.000000000000036"
      ]
     },
     "execution_count": 10,
     "metadata": {},
     "output_type": "execute_result"
    }
   ],
   "source": [
    "objective_value(model)"
   ]
  },
  {
   "cell_type": "markdown",
   "metadata": {},
   "source": [
    "# Other Cones and Functions\n",
    "For other cones supported by JuMP, check out the \n",
    "[MathOptInterface Manual](http://www.juliaopt.org/MathOptInterface.jl/dev/apimanual/#Standard-form-problem-1).\n",
    "A good resource for learning more about functions which can be modelled using cones is the \n",
    "[MOSEK Modeling Cookbook](https://docs.mosek.com/modeling-cookbook/index.html)."
   ]
  }
 ],
 "metadata": {
  "kernelspec": {
   "display_name": "Julia 1.0.3",
   "language": "julia",
   "name": "julia-1.0"
  },
  "language_info": {
   "file_extension": ".jl",
   "mimetype": "application/julia",
   "name": "julia",
   "version": "1.0.3"
  }
 },
 "nbformat": 4,
 "nbformat_minor": 2
}
